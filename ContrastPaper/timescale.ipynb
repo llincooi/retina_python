{
 "cells": [
  {
   "cell_type": "markdown",
   "metadata": {},
   "source": [
    "LNK02 based on Spike Feedback Model from Leo by adding nonlinearity and kinetic model after filter output\n",
    "\n",
    "Update history: Dec 25, 2021 created by ckc\n",
    "\n",
    "Ozuysal, Y. and S. A. Baccus (2012). \"Linking the Computational Structure of Variance Adaptation to Biophysical Mechanisms.\" Neuron 73(5): 1002-1015."
   ]
  },
  {
   "cell_type": "markdown",
   "metadata": {},
   "source": [
    "# Import and functions"
   ]
  },
  {
   "cell_type": "code",
   "execution_count": 174,
   "metadata": {},
   "outputs": [],
   "source": [
    "import numpy as np\n",
    "import matplotlib.pyplot as plt\n",
    "\n",
    "%matplotlib inline"
   ]
  },
  {
   "cell_type": "code",
   "execution_count": 175,
   "metadata": {},
   "outputs": [
    {
     "data": {
      "text/plain": [
       "[<matplotlib.lines.Line2D at 0x2adde0ee448>]"
      ]
     },
     "execution_count": 175,
     "metadata": {},
     "output_type": "execute_result"
    },
    {
     "data": {
      "image/png": "[encoded data removed]",
      "text/plain": [
       "<Figure size 432x288 with 1 Axes>"
      ]
     },
     "metadata": {
      "needs_background": "light"
     },
     "output_type": "display_data"
    }
   ],
   "source": [
    "dt = 0.01\n",
    "x = np.sin(1*np.arange(int(70/dt)))\n",
    "\n",
    "HC = 1\n",
    "LC = 1/3\n",
    "\n",
    "x = x*LC\n",
    "x[int(20/dt):int(40/dt)] = x[int(20/dt):int(40/dt)]*HC/LC\n",
    "\n",
    "x[x<0] = 0\n",
    "\n",
    "plt.plot(x)"
   ]
  },
  {
   "cell_type": "markdown",
   "metadata": {},
   "source": [
    "# LNK"
   ]
  },
  {
   "cell_type": "code",
   "execution_count": 176,
   "metadata": {},
   "outputs": [],
   "source": [
    "# four states kinetic model\n",
    "# using the same notation as Ozuysal\n",
    "# Eqn(11) in \"Experimental Procedure\" section\n",
    "\n",
    "def kinetic(u,para,dt):\n",
    "    ka  = para[0]\n",
    "    kfr = para[1]\n",
    "    kfi = para[2]\n",
    "    ksr = para[3]\n",
    "    ksi = para[4]\n",
    "#   initial conditions for the four states\n",
    "    p1 = 0.8\n",
    "    p2 = 2.0\n",
    "    p3 = 0.2\n",
    "    p4 = 97.0\n",
    "\n",
    "    p1r = []\n",
    "    p2r = []\n",
    "    p3r = []\n",
    "    p4r = []\n",
    "#\n",
    "# \n",
    "#\n",
    "    for i in range(len(u)):\n",
    "        dp1 = (-u[i]*ka*p1  + kfr*p3)*dt\n",
    "        dp2 =  (u[i]*ka*p1     - kfi*p2)*dt\n",
    "        dp3 =  (kfi*p2 - (kfr+ksi)*p3 + u[i]*ksr*p4)*dt\n",
    "        dp4 =  (ksi*p3 - u[i]*ksr*p4)*dt\n",
    "    \n",
    "        p1 = p1 + dp1\n",
    "        p2 = p2 + dp2\n",
    "        p3 = p3 + dp3\n",
    "        p4 = p4 + dp4\n",
    "    \n",
    "        p1r.append(p1)\n",
    "        p2r.append(p2)\n",
    "        p3r.append(p3)\n",
    "        p4r.append(p4)\n",
    "        \n",
    "# turn list into numpy arrays\n",
    "    p1r = np.array(p1r)\n",
    "    p2r = np.array(p2r)\n",
    "    p3r = np.array(p3r)\n",
    "    p4r = np.array(p4r)\n",
    "    return (p1r,p2r,p3r,p4r)"
   ]
  },
  {
   "cell_type": "code",
   "execution_count": 177,
   "metadata": {},
   "outputs": [],
   "source": [
    "# Nonlinearity function\n",
    "# midpoint = 0.25 # position of the mid point of the nonlinear function (tanh)\n",
    "# DR = 5 # dynamical range (?) of the nonlinear function (tanh)\n",
    "# dummy = np.linspace(-1,1,1000)\n",
    "# plt.plot(dummy, (np.tanh((dummy-midpoint)*DR)+1)/2)"
   ]
  },
  {
   "cell_type": "code",
   "execution_count": 178,
   "metadata": {},
   "outputs": [],
   "source": [
    "# u = (np.tanh((x-midpoint)*DR)+1)/2\n",
    "\n",
    "para = [60,20,3,0.03,1.0] # parameters for the five rates from Figure 2\n",
    "\n",
    "R,A,I1,I2 =kinetic(x,para,dt)"
   ]
  },
  {
   "cell_type": "code",
   "execution_count": 179,
   "metadata": {},
   "outputs": [
    {
     "data": {
      "text/plain": [
       "[<matplotlib.lines.Line2D at 0x2adde0ce608>]"
      ]
     },
     "execution_count": 179,
     "metadata": {},
     "output_type": "execute_result"
    },
    {
     "data": {
      "image/png": "[encoded data removed]",
      "text/plain": [
       "<Figure size 432x288 with 1 Axes>"
      ]
     },
     "metadata": {
      "needs_background": "light"
     },
     "output_type": "display_data"
    }
   ],
   "source": [
    "# Action pool = output of the system\n",
    "plt.plot(R)\n",
    "plt.plot(A)\n",
    "plt.plot(I1)\n",
    "# plt.plot(I2)"
   ]
  },
  {
   "cell_type": "markdown",
   "metadata": {},
   "source": [
    "# GC"
   ]
  },
  {
   "cell_type": "code",
   "execution_count": 180,
   "metadata": {},
   "outputs": [],
   "source": [
    "#Gain control function\n",
    "def gain_func(v):\n",
    "    try: # if v is an ndarray\n",
    "        v[v < 0] = 0\n",
    "    except: # if v is a variable\n",
    "        if v < 0 : return 1\n",
    "    return 1/(1+v**4)\n",
    "    \n",
    "def AddGainControl(r, B, tau):\n",
    "    decay = np.exp(-(np.arange(0,1,dt)+dt)/tau)\n",
    "    # plt.plot(np.arange(0,1,dt)+dt,decay)\n",
    "\n",
    "    output = np.zeros_like(r)\n",
    "    gain = np.zeros_like(r)\n",
    "    for i in np.arange(1,r.shape[0]):\n",
    "        gain[i] = gain_func(np.sum(B*decay[:min(i,len(decay))]*output[i:max(0, i-len(decay)):-1]*dt) )\n",
    "        opi = gain[i]*r[i]\n",
    "        output[i] = opi\n",
    "    output[output<0] = 0\n",
    "    return  output, gain"
   ]
  },
  {
   "cell_type": "code",
   "execution_count": 185,
   "metadata": {},
   "outputs": [
    {
     "data": {
      "text/plain": [
       "[<matplotlib.lines.Line2D at 0x2ade103a748>]"
      ]
     },
     "execution_count": 185,
     "metadata": {},
     "output_type": "execute_result"
    },
    {
     "data": {
      "image/png": "[encoded data removed]",
      "text/plain": [
       "<Figure size 432x288 with 1 Axes>"
      ]
     },
     "metadata": {
      "needs_background": "light"
     },
     "output_type": "display_data"
    }
   ],
   "source": [
    "B = 100 #To tune altitude of gain control (D=1/T) 4000; 5000\n",
    "tau = 0.1\n",
    "\n",
    "GC_Output, gain = AddGainControl(x, B, tau)\n",
    "plt.plot(gain)"
   ]
  },
  {
   "cell_type": "code",
   "execution_count": 186,
   "metadata": {},
   "outputs": [
    {
     "data": {
      "text/plain": [
       "[<matplotlib.lines.Line2D at 0x2ade2268fc8>]"
      ]
     },
     "execution_count": 186,
     "metadata": {},
     "output_type": "execute_result"
    },
    {
     "data": {
      "image/png": "[encoded data removed]",
      "text/plain": [
       "<Figure size 432x288 with 1 Axes>"
      ]
     },
     "metadata": {
      "needs_background": "light"
     },
     "output_type": "display_data"
    }
   ],
   "source": [
    "plt.plot(x)\n",
    "plt.plot(GC_Output)\n"
   ]
  },
  {
   "cell_type": "code",
   "execution_count": null,
   "metadata": {},
   "outputs": [],
   "source": []
  }
 ],
 "metadata": {
  "interpreter": {
   "hash": "d0b1fa5f8190b2a41a5ff5a3ea72cebc53c78344021de4da08a7d779ac26dba6"
  },
  "kernelspec": {
   "display_name": "Python 3",
   "language": "python",
   "name": "python3"
  },
  "language_info": {
   "codemirror_mode": {
    "name": "ipython",
    "version": 3
   },
   "file_extension": ".py",
   "mimetype": "text/x-python",
   "name": "python",
   "nbconvert_exporter": "python",
   "pygments_lexer": "ipython3",
   "version": "3.7.11"
  },
  "toc": {
   "base_numbering": 1,
   "nav_menu": {},
   "number_sections": true,
   "sideBar": true,
   "skip_h1_title": false,
   "title_cell": "Table of Contents",
   "title_sidebar": "Contents",
   "toc_cell": false,
   "toc_position": {
    "height": "calc(100% - 180px)",
    "left": "10px",
    "top": "150px",
    "width": "165px"
   },
   "toc_section_display": true,
   "toc_window_display": true
  },
  "varInspector": {
   "cols": {
    "lenName": 16,
    "lenType": 16,
    "lenVar": 40
   },
   "kernels_config": {
    "python": {
     "delete_cmd_postfix": "",
     "delete_cmd_prefix": "del ",
     "library": "var_list.py",
     "varRefreshCmd": "print(var_dic_list())"
    },
    "r": {
     "delete_cmd_postfix": ") ",
     "delete_cmd_prefix": "rm(",
     "library": "var_list.r",
     "varRefreshCmd": "cat(var_dic_list()) "
    }
   },
   "position": {
    "height": "471px",
    "left": "1521px",
    "right": "20px",
    "top": "117px",
    "width": "350px"
   },
   "types_to_exclude": [
    "module",
    "function",
    "builtin_function_or_method",
    "instance",
    "_Feature"
   ],
   "window_display": true
  }
 },
 "nbformat": 4,
 "nbformat_minor": 2
}
