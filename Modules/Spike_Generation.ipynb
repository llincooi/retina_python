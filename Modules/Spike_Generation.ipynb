{
 "cells": [
  {
   "cell_type": "code",
   "execution_count": 1,
   "metadata": {},
   "outputs": [],
   "source": [
    "import numpy as np"
   ]
  },
  {
   "cell_type": "code",
   "execution_count": 2,
   "metadata": {},
   "outputs": [],
   "source": [
    "# Generater Spike time train using Poisson\n",
    "# Refering \"Poisson Model of Spike Generation\" by Heeger (2000); https://www.cns.nyu.edu/~david/handouts/poisson.pdf.\n",
    "def Spike_Time_Generater(rdt, dt, r_mean, Gamma=1):  \n",
    "    # rdt: original input (continuous)\n",
    "    # dt: time bin length of the imput\n",
    "    # r_mean: target mean firing rate (Hz)\n",
    "    # Gamma: Gamma tune the spike interval (without changing the probability of spike count);\n",
    "    #        First increase the target firing rate by Gamma, then only expert every Gamma-th spike.\n",
    "    rdt = rdt / ( sum(rdt)/(len(rdt)*dt) ) *r_mean *Gamma\n",
    "                #original mean firing rate\n",
    "    Spike_time = []\n",
    "    \n",
    "    timeBinCounter = 0 # time bin index\n",
    "    p = 1 # probability of no spike in a bin.\n",
    "\n",
    "    while True:\n",
    "\n",
    "        # Use a random number to determine if there is a spike in the bin; if not, accumalate the probability of not firing (lowering \"p\"). \n",
    "        # The while loop stops when a spike appears.\n",
    "        theRandomNumber = 1-np.random.rand()\n",
    "        while (theRandomNumber < p and timeBinCounter < len(rdt)): \n",
    "            p *= np.exp(-rdt[timeBinCounter]) \n",
    "            timeBinCounter += 1\n",
    "        if timeBinCounter >= len(rdt): # End the funciton when current time exceeds the total time.\n",
    "            return Spike_time[::Gamma]\n",
    "\n",
    "        # Resume the exceeding probability (from \"theRandomNumber\" to \"p\") into the time unit, \n",
    "        # subtract it from the current time to determine the exact firing time and renew \"p\" with it. \n",
    "        remainer_c = -np.log(p/theRandomNumber)/rdt[timeBinCounter-1]\n",
    "        Spike_time.append(dt*(timeBinCounter-remainer_c))\n",
    "        p = np.exp(-remainer_c*rdt[timeBinCounter-1]) "
   ]
  },
  {
   "cell_type": "code",
   "execution_count": 3,
   "metadata": {},
   "outputs": [],
   "source": [
    "# activation function\n",
    "def NL(inp, theta = 0):\n",
    "    y = inp.copy()\n",
    "    y[y<theta] = theta\n",
    "    return y-theta"
   ]
  },
  {
   "cell_type": "code",
   "execution_count": 4,
   "metadata": {},
   "outputs": [],
   "source": [
    "# activation function\n",
    "def nA(x,theta=0):\n",
    "    y = np.zeros(len(x))\n",
    "    for i in range(len(x)):\n",
    "        if x[i]- theta>0:\n",
    "            y[i]= 1\n",
    "    return(y)\n",
    "\n",
    "# activation function\n",
    "def nA2(x,theta1, theta2):\n",
    "    y = np.zeros(len(x))\n",
    "    for i in range(len(x)):\n",
    "        if x[i]- theta2>0:\n",
    "            y[i]= 2\n",
    "        elif x[i]- theta1>0:\n",
    "            y[i]= 1\n",
    "    return(y)"
   ]
  },
  {
   "cell_type": "code",
   "execution_count": 5,
   "metadata": {},
   "outputs": [],
   "source": [
    "def SG(w, dt, theta_star=0, r_mean=5, Gamma = 10, thetaType = 'rel'):\n",
    "    T = np.arange(len(w)+1)*dt\n",
    "    if thetaType == 'rel':\n",
    "        wstate, _ = np.histogram( Spike_Time_Generater( NL(w,np.mean(w)+theta_star*np.std(w)) , dt, r_mean, Gamma), T)\n",
    "    elif thetaType == 'abs':\n",
    "        wstate, _ = np.histogram( Spike_Time_Generater( NL(w,theta_star) , dt, r_mean, Gamma), T)\n",
    "    return wstate"
   ]
  },
  {
   "cell_type": "code",
   "execution_count": null,
   "metadata": {},
   "outputs": [],
   "source": []
  }
 ],
 "metadata": {
  "interpreter": {
   "hash": "d0b1fa5f8190b2a41a5ff5a3ea72cebc53c78344021de4da08a7d779ac26dba6"
  },
  "kernelspec": {
   "display_name": "Python 3.7.11 64-bit ('base': conda)",
   "name": "python3"
  },
  "language_info": {
   "codemirror_mode": {
    "name": "ipython",
    "version": 3
   },
   "file_extension": ".py",
   "mimetype": "text/x-python",
   "name": "python",
   "nbconvert_exporter": "python",
   "pygments_lexer": "ipython3",
   "version": "3.7.11"
  },
  "toc": {
   "base_numbering": 1,
   "nav_menu": {},
   "number_sections": true,
   "sideBar": true,
   "skip_h1_title": false,
   "title_cell": "Table of Contents",
   "title_sidebar": "Contents",
   "toc_cell": false,
   "toc_position": {},
   "toc_section_display": true,
   "toc_window_display": false
  },
  "varInspector": {
   "cols": {
    "lenName": 16,
    "lenType": 16,
    "lenVar": 40
   },
   "kernels_config": {
    "python": {
     "delete_cmd_postfix": "",
     "delete_cmd_prefix": "del ",
     "library": "var_list.py",
     "varRefreshCmd": "print(var_dic_list())"
    },
    "r": {
     "delete_cmd_postfix": ") ",
     "delete_cmd_prefix": "rm(",
     "library": "var_list.r",
     "varRefreshCmd": "cat(var_dic_list()) "
    }
   },
   "types_to_exclude": [
    "module",
    "function",
    "builtin_function_or_method",
    "instance",
    "_Feature"
   ],
   "window_display": false
  }
 },
 "nbformat": 4,
 "nbformat_minor": 4
}
