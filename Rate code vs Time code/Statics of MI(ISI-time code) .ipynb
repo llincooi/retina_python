{
 "cells": [
  {
   "cell_type": "markdown",
   "metadata": {},
   "source": [
    "# Functions"
   ]
  },
  {
   "cell_type": "code",
   "execution_count": 1,
   "metadata": {
    "run_control": {
     "marked": true
    }
   },
   "outputs": [],
   "source": [
    "import numpy as np\n",
    "import matplotlib.pyplot as plt\n",
    "from scipy.io import loadmat\n",
    "import os\n",
    "%matplotlib inline\n",
    "\n",
    "import warnings\n",
    "warnings.simplefilter('ignore')"
   ]
  },
  {
   "cell_type": "code",
   "execution_count": 2,
   "metadata": {},
   "outputs": [],
   "source": [
    "## EqualState assign states with equal possibility for input array x\n",
    "def EqualState(x, num_state):\n",
    "    xs=np.sort(x)\n",
    "    binlen=int(len(x)/num_state-0.5) #round\n",
    "    edges = xs[np.arange(num_state+1)*binlen]\n",
    "    xstate=np.zeros(len(x))\n",
    "    for i in range(num_state):\n",
    "        xstate[x>=edges[i]] = i\n",
    "    xstate = xstate.astype(int)\n",
    "    return xstate, edges"
   ]
  },
  {
   "cell_type": "markdown",
   "metadata": {},
   "source": [
    "# Load and Set"
   ]
  },
  {
   "cell_type": "code",
   "execution_count": 3,
   "metadata": {},
   "outputs": [],
   "source": [
    "dt = 0.01\n",
    "global cut_state_num\n",
    "cut_state_num = 8\n",
    "\n",
    "channelnumber = 30\n",
    "annots = loadmat('D:\\\\GoogleDrive\\\\retina\\\\Troy\\'s data\\\\20210908\\\\SplitData\\\\diode_OU_tau=500ms_cutoff=1_mean=10_amp=2_11-Aug-2021_0', squeeze_me = True)\n",
    "sampling_rate = 20000\n",
    "TimeStamps = annots['TimeStamps']\n",
    "x = annots['a_data'][0, int(TimeStamps[0]*sampling_rate):int(TimeStamps[1]*sampling_rate)+1]\n",
    "x = x[::int(sampling_rate*dt)]\n",
    "x = x.astype(float)\n",
    "x = (x-np.mean(x))/np.std(x)\n",
    "T=np.arange(len(x))*dt\n",
    "Spike = annots['Spikes'][channelnumber-1]\n",
    "Spike = Spike[np.where(Spike>TimeStamps[0])[0][0]:np.where(Spike<TimeStamps[1])[0][-1]]-TimeStamps[0]\n",
    "\n",
    "xstate, _ = EqualState(x, cut_state_num)"
   ]
  },
  {
   "cell_type": "markdown",
   "metadata": {},
   "source": [
    "# Statics of ISI"
   ]
  },
  {
   "cell_type": "code",
   "execution_count": 4,
   "metadata": {},
   "outputs": [],
   "source": [
    "HeadSpikeEnd = np.hstack((0, Spike, T[-1]+dt))\n",
    "ISI = np.diff(HeadSpikeEnd)"
   ]
  },
  {
   "cell_type": "code",
   "execution_count": 5,
   "metadata": {},
   "outputs": [
    {
     "data": {
      "text/plain": [
       "(1400.0, 1600.0)"
      ]
     },
     "execution_count": 5,
     "metadata": {},
     "output_type": "execute_result"
    },
    {
     "data": {
      "image/png": "[encoded data removed]",
      "text/plain": [
       "<Figure size 432x288 with 1 Axes>"
      ]
     },
     "metadata": {
      "needs_background": "light"
     },
     "output_type": "display_data"
    }
   ],
   "source": [
    "plt.plot(np.correlate(ISI,ISI,'same'))\n",
    "plt.xlim(1400,1600)"
   ]
  },
  {
   "cell_type": "code",
   "execution_count": 6,
   "metadata": {},
   "outputs": [
    {
     "data": {
      "text/plain": [
       "(array([2.673e+03, 1.860e+02, 9.800e+01, 5.500e+01, 3.000e+01, 1.500e+01,\n",
       "        4.000e+00, 1.000e+00, 3.000e+00, 4.000e+00]),\n",
       " array([9.99999997e-05, 2.37425000e-01, 4.74750000e-01, 7.12075000e-01,\n",
       "        9.49400000e-01, 1.18672500e+00, 1.42405000e+00, 1.66137500e+00,\n",
       "        1.89870000e+00, 2.13602500e+00, 2.37335000e+00]),\n",
       " <BarContainer object of 10 artists>)"
      ]
     },
     "execution_count": 6,
     "metadata": {},
     "output_type": "execute_result"
    },
    {
     "data": {
      "image/png": "[encoded data removed]",
      "text/plain": [
       "<Figure size 432x288 with 1 Axes>"
      ]
     },
     "metadata": {
      "needs_background": "light"
     },
     "output_type": "display_data"
    }
   ],
   "source": [
    "plt.hist(ISI)"
   ]
  },
  {
   "cell_type": "markdown",
   "metadata": {},
   "source": [
    "## for 'event = bin' case"
   ]
  },
  {
   "cell_type": "code",
   "execution_count": 7,
   "metadata": {},
   "outputs": [],
   "source": [
    "rstate, _ = np.histogram(Spike, np.append(T, T[-1]+dt))\n",
    "\n",
    "ISI_bin = np.zeros(len(rstate))\n",
    "\n",
    "counter = 0\n",
    "for j in range(len(rstate)):\n",
    "    counter += rstate[j]\n",
    "    ISI_bin[j] = (HeadSpikeEnd[counter+1]-HeadSpikeEnd[counter-rstate[j]])/(rstate[j]+1)\n",
    "    \n",
    "timestate, _ = EqualState(ISI, cut_state_num)"
   ]
  },
  {
   "cell_type": "code",
   "execution_count": 8,
   "metadata": {},
   "outputs": [
    {
     "data": {
      "text/plain": [
       "(array([378., 387., 381., 384., 382., 386., 383., 388.]),\n",
       " array([-0.5,  0.5,  1.5,  2.5,  3.5,  4.5,  5.5,  6.5,  7.5]),\n",
       " <BarContainer object of 8 artists>)"
      ]
     },
     "execution_count": 8,
     "metadata": {},
     "output_type": "execute_result"
    },
    {
     "data": {
      "image/png": "[encoded data removed]",
      "text/plain": [
       "<Figure size 432x288 with 1 Axes>"
      ]
     },
     "metadata": {
      "needs_background": "light"
     },
     "output_type": "display_data"
    }
   ],
   "source": [
    "plt.hist(timestate,np.arange(cut_state_num+1)-0.5)"
   ]
  },
  {
   "cell_type": "markdown",
   "metadata": {},
   "source": [
    "## for 'event = spike' case"
   ]
  },
  {
   "cell_type": "code",
   "execution_count": 9,
   "metadata": {},
   "outputs": [],
   "source": [
    "negshift=-1 # second\n",
    "posshift=1 # second\n",
    "shiftlen=(posshift-negshift)/dt+1\n",
    "timeshift=np.linspace(negshift,posshift,int(shiftlen))\n",
    "bitshift=np.linspace(negshift/dt,posshift/dt,int(shiftlen),dtype = 'int16')\n",
    "MIxr = np.zeros(len(bitshift))\n",
    "Hx = np.zeros(len(bitshift))\n",
    "Hr = np.zeros(len(bitshift))\n",
    "xx_list = []\n",
    "\n",
    "for i in range(len(bitshift)):\n",
    "    shift=bitshift[i]\n",
    "    if shift>0:\n",
    "        xx=xstate[shift:]\n",
    "        rr=rstate[:(-1*shift)]\n",
    "        SS=np.hstack((HeadSpikeEnd[:sum(rr)+1],HeadSpikeEnd[-1]-timeshift[i]))\n",
    "    elif shift==0:\n",
    "        xx=xstate\n",
    "        rr=rstate\n",
    "        SS=HeadSpikeEnd\n",
    "    elif shift<0:\n",
    "        xx=xstate[:shift]\n",
    "        rr=rstate[(-1*shift):]\n",
    "        SS=np.hstack((-timeshift[i],HeadSpikeEnd[-sum(rr)-1:]))\n",
    "    if len(SS)-2 != sum(rr):\n",
    "        print(timeshift[i], SS[0:2], i)\n",
    "        print(len(SS), sum(rr))\n",
    "\n",
    "    new_xx = []\n",
    "    shifted_ISI,_  = EqualState(np.diff(SS),cut_state_num)\n",
    "    post_ISI = shifted_ISI[1:]\n",
    "    pre_ISI = shifted_ISI[:-1]\n",
    "    for j in np.squeeze(np.where(rr != 0)):\n",
    "        for k in range(rr[j]):\n",
    "            new_xx.append(xx[j])\n",
    "\n",
    "    new_xx = np.array(new_xx)\n",
    "    # new_rr = post_ISI\n",
    "    new_rr = pre_ISI\n",
    "\n",
    "    xedges = np.append(np.unique(new_xx),(max(new_xx)+1))\n",
    "    redges = np.append(np.unique(new_rr),(max(new_rr)+1))\n",
    "    N, _, _ = np.histogram2d(new_xx, new_rr, bins=(xedges, redges)) \n",
    "    px=(np.sum(N,axis=1)/np.sum(N))[:, np.newaxis]\n",
    "    pr=(np.sum(N,axis=0)/np.sum(N))[np.newaxis, :]\n",
    "    pxr=N/np.sum(N)\n",
    "\n",
    "    MIxr[i]=np.nansum(pxr*np.log2(pxr/px/pr))/dt\n",
    "    Hx[i]=np.nansum(px*np.log2(1/px))/dt\n",
    "    Hr[i]=np.nansum(pr*np.log2(1/pr))/dt\n",
    "\n",
    "    xx_list.append(new_xx.copy())"
   ]
  },
  {
   "cell_type": "code",
   "execution_count": 10,
   "metadata": {},
   "outputs": [
    {
     "data": {
      "text/plain": [
       "[<matplotlib.lines.Line2D at 0x1dda474b088>]"
      ]
     },
     "execution_count": 10,
     "metadata": {},
     "output_type": "execute_result"
    },
    {
     "data": {
      "image/png": "[encoded data removed]",
      "text/plain": [
       "<Figure size 432x288 with 1 Axes>"
      ]
     },
     "metadata": {
      "needs_background": "light"
     },
     "output_type": "display_data"
    }
   ],
   "source": [
    "plt.plot(timeshift,MIxr)\n",
    "plt.plot(timeshift,Hx)\n",
    "# plt.plot(timeshift,Hr)"
   ]
  },
  {
   "cell_type": "code",
   "execution_count": 11,
   "metadata": {},
   "outputs": [
    {
     "data": {
      "text/plain": [
       "Text(0.5, 1.0, '$\\\\delta$t=0.2 s')"
      ]
     },
     "execution_count": 11,
     "metadata": {},
     "output_type": "execute_result"
    },
    {
     "data": {
      "image/png": "[encoded data removed]",
      "text/plain": [
       "<Figure size 432x288 with 1 Axes>"
      ]
     },
     "metadata": {
      "needs_background": "light"
     },
     "output_type": "display_data"
    }
   ],
   "source": [
    "shiftIndex = 120\n",
    "\n",
    "plt.hist(xstate, np.arange(cut_state_num+1)-0.5, label = 'original')\n",
    "plt.hist(xx_list[shiftIndex], np.arange(cut_state_num+1)-0.5, label = 'aligned with spike')\n",
    "plt.legend()\n",
    "plt.title(r'$\\delta$t='+str(round(timeshift[shiftIndex], 3))+' s')"
   ]
  }
 ],
 "metadata": {
  "interpreter": {
   "hash": "d0b1fa5f8190b2a41a5ff5a3ea72cebc53c78344021de4da08a7d779ac26dba6"
  },
  "kernelspec": {
   "display_name": "Python 3.7.11 64-bit ('base': conda)",
   "name": "python3"
  },
  "language_info": {
   "codemirror_mode": {
    "name": "ipython",
    "version": 3
   },
   "file_extension": ".py",
   "mimetype": "text/x-python",
   "name": "python",
   "nbconvert_exporter": "python",
   "pygments_lexer": "ipython3",
   "version": "3.7.11"
  },
  "toc": {
   "base_numbering": 1,
   "nav_menu": {
    "height": "187px",
    "width": "383px"
   },
   "number_sections": true,
   "sideBar": true,
   "skip_h1_title": false,
   "title_cell": "Table of Contents",
   "title_sidebar": "Contents",
   "toc_cell": false,
   "toc_position": {
    "height": "789px",
    "left": "557px",
    "top": "241px",
    "width": "165px"
   },
   "toc_section_display": true,
   "toc_window_display": true
  },
  "varInspector": {
   "cols": {
    "lenName": 16,
    "lenType": 16,
    "lenVar": 40
   },
   "kernels_config": {
    "python": {
     "delete_cmd_postfix": "",
     "delete_cmd_prefix": "del ",
     "library": "var_list.py",
     "varRefreshCmd": "print(var_dic_list())"
    },
    "r": {
     "delete_cmd_postfix": ") ",
     "delete_cmd_prefix": "rm(",
     "library": "var_list.r",
     "varRefreshCmd": "cat(var_dic_list()) "
    }
   },
   "position": {
    "height": "273px",
    "left": "1523px",
    "right": "20px",
    "top": "112px",
    "width": "350px"
   },
   "types_to_exclude": [
    "module",
    "function",
    "builtin_function_or_method",
    "instance",
    "_Feature"
   ],
   "window_display": false
  }
 },
 "nbformat": 4,
 "nbformat_minor": 4
}
