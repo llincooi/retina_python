{
 "cells": [
  {
   "cell_type": "code",
   "execution_count": 1,
   "source": [
    "import numpy as np\r\n",
    "import matplotlib.pyplot as plt\r\n",
    "\r\n",
    "from matplotlib import animation, rc\r\n",
    "# from IPython.display import HTML\r\n",
    "\r\n",
    "%matplotlib ipympl\r\n"
   ],
   "outputs": [],
   "metadata": {}
  },
  {
   "cell_type": "code",
   "execution_count": 2,
   "source": [
    "# First set up the figure, the axis, and the plot element we want to animate\r\n",
    "fig, ax = plt.subplots()\r\n",
    "\r\n",
    "ax.set_xlim(( 0, 2))\r\n",
    "ax.set_ylim((-2, 2))\r\n",
    "\r\n",
    "line, = ax.plot([], [], lw=2)"
   ],
   "outputs": [
    {
     "output_type": "display_data",
     "data": {
      "text/plain": [
       "FigureCanvasNbAgg()"
      ],
      "application/vnd.jupyter.widget-view+json": {
       "version_major": 2,
       "version_minor": 0,
       "model_id": "2eca1cad2ea247e885a932da74d2372e"
      }
     },
     "metadata": {}
    }
   ],
   "metadata": {}
  },
  {
   "cell_type": "code",
   "execution_count": 3,
   "source": [
    "# initialization function: plot the background of each frame\r\n",
    "def init():\r\n",
    "    line.set_data([], [])\r\n",
    "    return (line,)\r\n",
    "\r\n",
    "# animation function. This is called sequentially\r\n",
    "def animate(i):\r\n",
    "    x = np.linspace(0, 2, 1000)\r\n",
    "    y = np.sin(2 * np.pi * (x - 0.01 * i))\r\n",
    "    line.set_data(x, y)\r\n",
    "    return (line,)\r\n",
    "    \r\n",
    "# call the animator. blit=True means only re-draw the parts that have changed.\r\n",
    "anim = animation.FuncAnimation(fig, animate, init_func=init, frames=100, interval=20, blit=True)"
   ],
   "outputs": [],
   "metadata": {}
  },
  {
   "cell_type": "code",
   "execution_count": 4,
   "source": [
    "# HTML(anim.to_html5_video())"
   ],
   "outputs": [],
   "metadata": {}
  },
  {
   "cell_type": "code",
   "execution_count": 5,
   "source": [
    "# fig.show()"
   ],
   "outputs": [],
   "metadata": {}
  },
  {
   "cell_type": "code",
   "execution_count": null,
   "source": [],
   "outputs": [],
   "metadata": {}
  }
 ],
 "metadata": {
  "kernelspec": {
   "name": "python3",
   "display_name": "Python 3.7.6 64-bit ('base': conda)"
  },
  "language_info": {
   "codemirror_mode": {
    "name": "ipython",
    "version": 3
   },
   "file_extension": ".py",
   "mimetype": "text/x-python",
   "name": "python",
   "nbconvert_exporter": "python",
   "pygments_lexer": "ipython3",
   "version": "3.7.6"
  },
  "toc": {
   "base_numbering": 1,
   "nav_menu": {},
   "number_sections": true,
   "sideBar": true,
   "skip_h1_title": false,
   "title_cell": "Table of Contents",
   "title_sidebar": "Contents",
   "toc_cell": false,
   "toc_position": {},
   "toc_section_display": true,
   "toc_window_display": false
  },
  "varInspector": {
   "cols": {
    "lenName": 16,
    "lenType": 16,
    "lenVar": 40
   },
   "kernels_config": {
    "python": {
     "delete_cmd_postfix": "",
     "delete_cmd_prefix": "del ",
     "library": "var_list.py",
     "varRefreshCmd": "print(var_dic_list())"
    },
    "r": {
     "delete_cmd_postfix": ") ",
     "delete_cmd_prefix": "rm(",
     "library": "var_list.r",
     "varRefreshCmd": "cat(var_dic_list()) "
    }
   },
   "types_to_exclude": [
    "module",
    "function",
    "builtin_function_or_method",
    "instance",
    "_Feature"
   ],
   "window_display": false
  },
  "interpreter": {
   "hash": "d0b1fa5f8190b2a41a5ff5a3ea72cebc53c78344021de4da08a7d779ac26dba6"
  }
 },
 "nbformat": 4,
 "nbformat_minor": 4
}