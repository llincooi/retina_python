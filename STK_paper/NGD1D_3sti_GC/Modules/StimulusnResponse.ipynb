{
 "cells": [
  {
   "cell_type": "code",
   "execution_count": 8,
   "metadata": {},
   "outputs": [],
   "source": [
    "import numpy as np\n",
    "from scipy import ndimage\n",
    "from scipy import signal\n",
    "from scipy.io import loadmat\n",
    "# import matplotlib.pyplot as plt\n",
    "# %matplotlib inline"
   ]
  },
  {
   "cell_type": "code",
   "execution_count": 14,
   "metadata": {},
   "outputs": [],
   "source": [
    "def expSnR(filenames, dt, StiType, channelnumbers):\n",
    "    rstate_list = []\n",
    "    x_list = []\n",
    "    T_list = []\n",
    "    if StiType == 'LED':\n",
    "        for filename in filenames:\n",
    "            annots = loadmat(filename)\n",
    "            sampling_rate = 20000\n",
    "            TimeStamps =np.round(np.squeeze(annots['TimeStamps']))\n",
    "            TimeStamps = TimeStamps.astype(int)\n",
    "            x = annots['a_data'][0, TimeStamps[0]*sampling_rate:TimeStamps[1]*sampling_rate+1]\n",
    "            x = ndimage.gaussian_filter1d(x, sigma=int(sampling_rate*dt/5), mode='reflect') / dt\n",
    "            x = x[::int(sampling_rate*dt)]\n",
    "            x = x.astype(float)\n",
    "            x = (x -np.mean(x))/np.std(x)\n",
    "            T=np.arange(len(x))*dt+dt\n",
    "            rstate = np.zeros((60, len(x)))\n",
    "            for cn in channelnumbers:\n",
    "                rstate[cn-1,:], _ = np.histogram(annots['Spikes'][0][cn-1]-TimeStamps[0], np.append(0,T))\n",
    "            rstate_list.append(rstate.copy())\n",
    "            x_list.append( x.copy())\n",
    "            T_list.append( T.copy())\n",
    "    elif StiType == 'OLED':\n",
    "        for filename in filenames:\n",
    "            annots = loadmat(filename)\n",
    "            x = np.squeeze(annots['bin_pos'])\n",
    "            T=np.arange(len(x))*dt+dt\n",
    "            rstate = np.zeros((60, len(x)))\n",
    "            for cn in channelnumbers:\n",
    "                rstate[cn-1,:], _ = np.histogram(annots['reconstruct_spikes'][0][cn-1], np.append(0,T))\n",
    "            rstate_list.append(rstate.copy())\n",
    "            x_list.append( x.copy())\n",
    "            T_list.append( T.copy())\n",
    "    return x_list, T_list, rstate_list"
   ]
  },
  {
   "cell_type": "code",
   "execution_count": 10,
   "metadata": {},
   "outputs": [],
   "source": [
    "def SSG(Fc_list, dt, tot, tau = 1, D = 1):\n",
    "    T = np.arange(0,tot,dt)\n",
    "    # OU ; input\n",
    "    OU=np.zeros(len(T))\n",
    "    mu, sigma = 0, 1\n",
    "    for i in range(len(T)-1):\n",
    "        OU[i+1]=OU[i]*(1-dt/tau)+np.sqrt(D*dt)*np.random.normal(mu,sigma)\n",
    "    # filtering for OUSmoothed\n",
    "    \n",
    "    LPOU_list = []\n",
    "    for Fc in Fc_list:\n",
    "        b, a = signal.butter(2, 2*Fc*dt, btype='low', analog=False)\n",
    "        LPOU_list.append(signal.filtfilt(b, a, OU))\n",
    "    LPOU_list.append(OU)\n",
    "    return LPOU_list"
   ]
  },
  {
   "cell_type": "code",
   "execution_count": null,
   "metadata": {},
   "outputs": [],
   "source": []
  }
 ],
 "metadata": {
  "kernelspec": {
   "display_name": "Python 3",
   "language": "python",
   "name": "python3"
  },
  "language_info": {
   "codemirror_mode": {
    "name": "ipython",
    "version": 3
   },
   "file_extension": ".py",
   "mimetype": "text/x-python",
   "name": "python",
   "nbconvert_exporter": "python",
   "pygments_lexer": "ipython3",
   "version": "3.7.6"
  },
  "toc": {
   "base_numbering": 1,
   "nav_menu": {},
   "number_sections": true,
   "sideBar": true,
   "skip_h1_title": false,
   "title_cell": "Table of Contents",
   "title_sidebar": "Contents",
   "toc_cell": false,
   "toc_position": {},
   "toc_section_display": true,
   "toc_window_display": false
  },
  "varInspector": {
   "cols": {
    "lenName": 16,
    "lenType": 16,
    "lenVar": 40
   },
   "kernels_config": {
    "python": {
     "delete_cmd_postfix": "",
     "delete_cmd_prefix": "del ",
     "library": "var_list.py",
     "varRefreshCmd": "print(var_dic_list())"
    },
    "r": {
     "delete_cmd_postfix": ") ",
     "delete_cmd_prefix": "rm(",
     "library": "var_list.r",
     "varRefreshCmd": "cat(var_dic_list()) "
    }
   },
   "position": {
    "height": "334px",
    "left": "1550px",
    "right": "20px",
    "top": "120px",
    "width": "350px"
   },
   "types_to_exclude": [
    "module",
    "function",
    "builtin_function_or_method",
    "instance",
    "_Feature"
   ],
   "window_display": true
  }
 },
 "nbformat": 4,
 "nbformat_minor": 4
}
