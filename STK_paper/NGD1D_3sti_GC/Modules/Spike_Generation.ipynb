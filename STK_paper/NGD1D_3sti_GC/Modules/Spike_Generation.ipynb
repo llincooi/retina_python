{
 "cells": [
  {
   "cell_type": "code",
   "execution_count": 1,
   "source": [
    "import numpy as np"
   ],
   "outputs": [],
   "metadata": {}
  },
  {
   "cell_type": "code",
   "execution_count": 2,
   "source": [
    "# Generater Spike time train using Poisson\r\n",
    "# Refering \"Poisson Model of Spike Generation\" by Heeger (2000); https://www.cns.nyu.edu/~david/handouts/poisson.pdf.\r\n",
    "def Spike_Time_Generater(rdt, dt, r_mean, Gamma=1):  \r\n",
    "    # rdt: original input (continuous)\r\n",
    "    # dt: time bin length of the imput\r\n",
    "    # r_mean: target mean firing rate (Hz)\r\n",
    "    # Gamma: Gamma tune the spike interval (without changing the probability of spike count);\r\n",
    "    #        First increase the target firing rate by Gamma, then only expert every Gamma-th spike.\r\n",
    "    rdt = rdt / ( sum(rdt)/(len(rdt)*dt) ) *r_mean *Gamma\r\n",
    "                #original mean firing rate\r\n",
    "    Spike_time = []\r\n",
    "    \r\n",
    "    timeBinCounter = 0 # time bin index\r\n",
    "    p = 1 # probability of no spike in a bin.\r\n",
    "\r\n",
    "    while True:\r\n",
    "\r\n",
    "        # Use a random number to determine if there is a spike in the bin; if not, accumalate the probability of not firing (lowering \"p\"). \r\n",
    "        # The while loop stops when a spike appears.\r\n",
    "        theRandomNumber = 1-np.random.rand()\r\n",
    "        while (theRandomNumber < p and timeBinCounter < len(rdt)): \r\n",
    "            p *= np.exp(-rdt[timeBinCounter]) \r\n",
    "            timeBinCounter += 1\r\n",
    "        if timeBinCounter >= len(rdt): # End the funciton when current time exceeds the total time.\r\n",
    "            return Spike_time[::Gamma]\r\n",
    "\r\n",
    "        # Resume the exceeding probability (from \"theRandomNumber\" to \"p\") into the time unit, \r\n",
    "        # subtract it from the current time to determine the exact firing time and renew \"p\" with it. \r\n",
    "        remainer_c = -np.log(p/theRandomNumber)/rdt[timeBinCounter-1]\r\n",
    "        Spike_time.append(dt*(timeBinCounter-remainer_c))\r\n",
    "        p = np.exp(-remainer_c*rdt[timeBinCounter-1]) "
   ],
   "outputs": [],
   "metadata": {}
  },
  {
   "cell_type": "code",
   "execution_count": 3,
   "source": [
    "# activation function\r\n",
    "def NL(inp, theta = 0):\r\n",
    "    y = inp.copy()\r\n",
    "    y[y<theta] = theta\r\n",
    "    return y-theta"
   ],
   "outputs": [],
   "metadata": {}
  },
  {
   "cell_type": "code",
   "execution_count": 4,
   "source": [
    "# activation function\r\n",
    "def nA(x,theta=0):\r\n",
    "    y = np.zeros(len(x))\r\n",
    "    for i in range(len(x)):\r\n",
    "        if x[i]- theta>0:\r\n",
    "            y[i]= 1\r\n",
    "    return(y)\r\n",
    "\r\n",
    "# activation function\r\n",
    "def nA2(x,theta1, theta2):\r\n",
    "    y = np.zeros(len(x))\r\n",
    "    for i in range(len(x)):\r\n",
    "        if x[i]- theta2>0:\r\n",
    "            y[i]= 2\r\n",
    "        elif x[i]- theta1>0:\r\n",
    "            y[i]= 1\r\n",
    "    return(y)"
   ],
   "outputs": [],
   "metadata": {}
  },
  {
   "cell_type": "code",
   "execution_count": 5,
   "source": [
    "def SG(w, dt, theta_star=0, r_mean=5, Gamma = 10):\r\n",
    "    T = np.arange(len(w)+1)*dt\r\n",
    "    wstate, _ = np.histogram( Spike_Time_Generater( NL(w,np.mean(w)+theta_star*np.std(w)) , dt, r_mean, Gamma), T)\r\n",
    "    return wstate"
   ],
   "outputs": [],
   "metadata": {}
  },
  {
   "cell_type": "code",
   "execution_count": null,
   "source": [],
   "outputs": [],
   "metadata": {}
  }
 ],
 "metadata": {
  "kernelspec": {
   "name": "python3",
   "display_name": "Python 3.7.6 64-bit ('base': conda)"
  },
  "language_info": {
   "codemirror_mode": {
    "name": "ipython",
    "version": 3
   },
   "file_extension": ".py",
   "mimetype": "text/x-python",
   "name": "python",
   "nbconvert_exporter": "python",
   "pygments_lexer": "ipython3",
   "version": "3.7.6"
  },
  "toc": {
   "base_numbering": 1,
   "nav_menu": {},
   "number_sections": true,
   "sideBar": true,
   "skip_h1_title": false,
   "title_cell": "Table of Contents",
   "title_sidebar": "Contents",
   "toc_cell": false,
   "toc_position": {},
   "toc_section_display": true,
   "toc_window_display": false
  },
  "varInspector": {
   "cols": {
    "lenName": 16,
    "lenType": 16,
    "lenVar": 40
   },
   "kernels_config": {
    "python": {
     "delete_cmd_postfix": "",
     "delete_cmd_prefix": "del ",
     "library": "var_list.py",
     "varRefreshCmd": "print(var_dic_list())"
    },
    "r": {
     "delete_cmd_postfix": ") ",
     "delete_cmd_prefix": "rm(",
     "library": "var_list.r",
     "varRefreshCmd": "cat(var_dic_list()) "
    }
   },
   "types_to_exclude": [
    "module",
    "function",
    "builtin_function_or_method",
    "instance",
    "_Feature"
   ],
   "window_display": false
  },
  "interpreter": {
   "hash": "d0b1fa5f8190b2a41a5ff5a3ea72cebc53c78344021de4da08a7d779ac26dba6"
  }
 },
 "nbformat": 4,
 "nbformat_minor": 4
}