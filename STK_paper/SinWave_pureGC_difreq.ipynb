{
 "cells": [
  {
   "cell_type": "markdown",
   "source": [
    "Computaton of group delay resulted from gain control as in Berry's model\n",
    "by using a wave packet\n",
    "\n",
    "adpated from:\n",
    "\n",
    "https://dspillustrations.com/pages/posts/misc/group-delay-and-phase-delay-example.html\n",
    "\n",
    "\n",
    "Sept 13, 2021 Created by CKC"
   ],
   "metadata": {}
  },
  {
   "cell_type": "code",
   "execution_count": 17,
   "source": [
    "import numpy as np\r\n",
    "import math\r\n",
    "import scipy as sp\r\n",
    "from scipy import sparse\r\n",
    "from scipy.spatial import cKDTree\r\n",
    "import matplotlib.pyplot as plt\r\n",
    "import matplotlib\r\n",
    "matplotlib.rcParams['animation.embed_limit'] = 2**128\r\n",
    "from matplotlib.animation import FuncAnimation\r\n",
    "from IPython.display import HTML\r\n",
    "import time"
   ],
   "outputs": [],
   "metadata": {}
  },
  {
   "cell_type": "code",
   "execution_count": 18,
   "source": [
    "from scipy.fftpack import fft, fftfreq\r\n",
    "def FFT_quick(data, dt, center_data = False, center_faxis = True):\r\n",
    "    if center_data:\r\n",
    "        xft=fft(data-np.mean(data))\r\n",
    "    else:\r\n",
    "        xft=fft(data)\r\n",
    "    xft_nor=xft/len(xft)\r\n",
    "    freq=fftfreq(len(data), d=dt)\r\n",
    "\r\n",
    "    if center_faxis:\r\n",
    "        xft_nor = np.append( xft_nor[np.argmin(freq):],xft_nor[:np.argmin(freq)] )\r\n",
    "        freq = np.append( freq[np.argmin(freq):], freq[:np.argmin(freq)] )\r\n",
    "    return freq,xft_nor"
   ],
   "outputs": [],
   "metadata": {}
  },
  {
   "cell_type": "code",
   "execution_count": 19,
   "source": [
    "def angular_gradient(x):\r\n",
    "    diffx= np.gradient(x)\r\n",
    "    diffx[np.abs(diffx)>0.6*np.pi] -= np.pi*diffx[np.abs(diffx)>0.6*np.pi]/abs(diffx[np.abs(diffx)>0.6*np.pi])\r\n",
    "    return diffx"
   ],
   "outputs": [],
   "metadata": {}
  },
  {
   "cell_type": "code",
   "execution_count": 20,
   "source": [
    "#Gain control function\r\n",
    "def gain_func(v):\r\n",
    "    try: # if v is an ndarray\r\n",
    "        v[v < 0] = 0\r\n",
    "    except: # if v is a variable\r\n",
    "        if v < 0 : return 1\r\n",
    "    return 1/(1+v**4)\r\n",
    "    \r\n",
    "def AddGainControl(r, B, tau):\r\n",
    "    decay = np.exp(-(np.arange(0,1,dt)+dt)/tau)\r\n",
    "    # plt.plot(np.arange(0,1,dt)+dt,decay)\r\n",
    "\r\n",
    "    output = np.zeros_like(r)\r\n",
    "    gain = np.zeros_like(r)\r\n",
    "    for i in np.arange(1,r.shape[0]):\r\n",
    "        gain[i] = gain_func(np.sum(B*decay[:min(i,len(decay))]*output[i:max(0, i-len(decay)):-1]*dt) )\r\n",
    "        opi = gain[i]*r[i]\r\n",
    "        output[i] = opi\r\n",
    "    # output[output<0] = 0\r\n",
    "    return  output, gain"
   ],
   "outputs": [],
   "metadata": {}
  },
  {
   "cell_type": "code",
   "execution_count": 21,
   "source": [
    "f0 = 0.1     # The resonant frequency of the circuit\r\n",
    "\r\n",
    "Tot = 50/f0 # 100*period\r\n",
    "dt = 0.001/f0\r\n",
    "# Fs = 100\r\n",
    "\r\n",
    "tAxis = np.arange(0, Tot, dt)\r\n",
    "sinWave = np.sin(2*np.pi*f0*tAxis)\r\n",
    "x = sinWave.copy()+1\r\n"
   ],
   "outputs": [],
   "metadata": {}
  },
  {
   "cell_type": "code",
   "execution_count": 22,
   "source": [
    "T = 1/f0\r\n",
    "GroupDelay_list = []\r\n",
    "PhaseDelay_list = []\r\n",
    "period_rate_list = np.linspace(0.5, 4.5, 50)\r\n",
    "for delay in period_rate_list*T:\r\n",
    "    delay = int(delay/dt+0.5)\r\n",
    "    y = x.copy() # output signal\r\n",
    "    gain =np.ones_like(x)\r\n",
    "\r\n",
    "    B = 5\r\n",
    "    for i in range(delay,len(x)):\r\n",
    "        gain[i] = 1/(1+B*y[i-delay]**2)\r\n",
    "        y[i]= gain[i]*x[i]\r\n",
    "\r\n",
    "    # B = 80\r\n",
    "    # tau = 10/f0\r\n",
    "    # y, gain = AddGainControl(x, B, tau)\r\n",
    "    # plt.plot(gain)\r\n",
    "\r\n",
    "    fAxis,FT_x=FFT_quick(x[delay:], dt)\r\n",
    "    fAxis,FT_y=FFT_quick(y[delay:], dt)\r\n",
    "\r\n",
    "    H = FT_y/FT_x\r\n",
    "    G = np.abs(H)\r\n",
    "    Phi = np.angle(H)\r\n",
    "    GroupDelay = -angular_gradient(Phi)/np.mean(np.diff(fAxis))\r\n",
    "    PhaseDelay = -Phi/fAxis\r\n",
    "\r\n",
    "    PhaseDelay_list.append(PhaseDelay[np.argmin(np.abs(fAxis-f0))])\r\n",
    "    GroupDelay_list.append(GroupDelay[np.argmin(np.abs(fAxis-f0))])"
   ],
   "outputs": [
    {
     "output_type": "stream",
     "name": "stderr",
     "text": [
      "C:\\Users\\hydro_leo\\anaconda3\\lib\\site-packages\\ipykernel_launcher.py:27: RuntimeWarning: invalid value encountered in true_divide\n"
     ]
    }
   ],
   "metadata": {}
  },
  {
   "cell_type": "code",
   "execution_count": 23,
   "source": [
    "# plt.plot(np.linspace(0, 1, 50), GroupDelay_list)\r\n",
    "plt.plot( period_rate_list, GroupDelay_list)\r\n",
    "plt.plot( period_rate_list, PhaseDelay_list)"
   ],
   "outputs": [
    {
     "output_type": "execute_result",
     "data": {
      "text/plain": [
       "[<matplotlib.lines.Line2D at 0x22978520f48>]"
      ]
     },
     "metadata": {},
     "execution_count": 23
    },
    {
     "output_type": "display_data",
     "data": {
      "image/png": "[encoded data removed]",
      "text/plain": [
       "<Figure size 432x288 with 1 Axes>"
      ]
     },
     "metadata": {
      "needs_background": "light"
     }
    }
   ],
   "metadata": {}
  },
  {
   "cell_type": "code",
   "execution_count": 24,
   "source": [
    "int(  (1.5*T)/dt+0.5)"
   ],
   "outputs": [
    {
     "output_type": "execute_result",
     "data": {
      "text/plain": [
       "1500"
      ]
     },
     "metadata": {},
     "execution_count": 24
    }
   ],
   "metadata": {}
  }
 ],
 "metadata": {
  "kernelspec": {
   "name": "python3",
   "display_name": "Python 3.7.11 64-bit ('base': conda)"
  },
  "language_info": {
   "codemirror_mode": {
    "name": "ipython",
    "version": 3
   },
   "file_extension": ".py",
   "mimetype": "text/x-python",
   "name": "python",
   "nbconvert_exporter": "python",
   "pygments_lexer": "ipython3",
   "version": "3.7.11"
  },
  "interpreter": {
   "hash": "d0b1fa5f8190b2a41a5ff5a3ea72cebc53c78344021de4da08a7d779ac26dba6"
  }
 },
 "nbformat": 4,
 "nbformat_minor": 4
}