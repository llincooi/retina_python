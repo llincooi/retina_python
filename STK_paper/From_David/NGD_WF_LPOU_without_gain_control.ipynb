{
 "cells": [
  {
   "cell_type": "code",
   "execution_count": 1,
   "metadata": {},
   "outputs": [],
   "source": [
    "#u is cone\n",
    "#z is horizontal\n",
    "#v is bipolar"
   ]
  },
  {
   "cell_type": "code",
   "execution_count": 2,
   "metadata": {},
   "outputs": [],
   "source": [
    "import numpy as np\n",
    "import matplotlib.pyplot as plt\n",
    "from mpl_toolkits import mplot3d\n",
    "import math\n",
    "from scipy import signal\n",
    "from scipy.fftpack import fft\n",
    "from scipy import ndimage\n",
    "from scipy import special\n",
    "from NGD_function import *\n",
    "%matplotlib inline"
   ]
  },
  {
   "cell_type": "code",
   "execution_count": 3,
   "metadata": {},
   "outputs": [],
   "source": [
    "xlen = 2000#spatial extend of simulation\n",
    "dxc = 20/xlen\n",
    "sigma_zu = int(2/dxc)#sigma_zu is horizontal cell receptive field\n",
    "sigma_v = sigma_zu*0.9#sigma_v is bipolar cell receptive field\n",
    "sigma_zv = sigma_zu/5#sigma_zv is horizontal to bipolar cell receptive field size\n",
    "Dynamical_range = 3*sigma_zu# Moving bar range\n",
    "##Spatial kernal for horizontal cell\n",
    "klen = int(sigma_zu*3)\n",
    "xx = np.arange(0,klen)\n",
    "khxs = K(xx,sigma_zu)\n",
    "KH = np.zeros(klen*2-1)\n",
    "tmp = khxs[::-1]\n",
    "KH[0:klen]= tmp[0:klen]/dxc\n",
    "KH[klen:2*klen]=khxs[1:klen]/dxc\n",
    "##Spatial kernal for horizontal cell to bipolar cell\n",
    "'''\n",
    "klen = int(sigma_zv*3)\n",
    "xx = np.arange(0,klen)\n",
    "kzvxs = K(xx,sigma_zv)\n",
    "Kzv = np.zeros(klen*2-1)\n",
    "tmp = kzvxs[::-1]\n",
    "Kzv[0:klen]= tmp[0:klen]/dxc\n",
    "Kzv[klen:2*klen]=kzvxs[1:klen]/dxc\n",
    "'''\n",
    "##Spatial kernal for bipolar cell\n",
    "klen = int(sigma_v*3)\n",
    "xx = np.arange(0,klen)\n",
    "kvxs = K(xx,sigma_v)\n",
    "KV = np.zeros(klen*2-1)\n",
    "tmp = kvxs[::-1]\n",
    "KV[0:klen]= tmp[0:klen]/dxc\n",
    "KV[klen:2*klen]=kvxs[1:klen]/dxc\n",
    "\n",
    "##Spatial kernal for RF\n",
    "klen = int(xlen/2)\n",
    "xx = np.arange(0,klen)\n",
    "kvxs = K(xx,sigma_v)\n",
    "KRF = np.zeros(klen*2)\n",
    "tmp = kvxs[::-1]\n",
    "KRF[0:klen]= tmp[0:klen]/dxc\n",
    "KRF[klen:2*klen]=kvxs[0:klen]/dxc"
   ]
  },
  {
   "cell_type": "code",
   "execution_count": 4,
   "metadata": {},
   "outputs": [],
   "source": [
    "hw = int(sigma_zu*8)#half of width\n",
    "pos_0 = int(xlen/2)#initial position\n",
    "pos = pos_0\n",
    "nstep = 100000\n",
    "\n",
    "tau_u = 40#time constant of cone\n",
    "tau_z = 2.#time constant of horizontal\n",
    "tau_v = 100#time constant of bipolar\n",
    "k = 40#Tune stimulus input and horizontal feedback\n",
    "g = 2#Tune horizontal cell\n",
    "psy = 0.5\n",
    "p = 100\n",
    "phi = 5\n",
    "total_frequency =[0.5,1,2,4]#[0.5]\n",
    "dms = np.arange(-199,200)\n",
    "total_mi_ss = np.zeros([len(total_frequency),len(dms)])\n",
    "total_mi_su = np.zeros([len(total_frequency),len(dms)])\n",
    "total_mi_sv = np.zeros([len(total_frequency),len(dms)])\n",
    "total_mi_svv = np.zeros([len(total_frequency),len(dms)])\n",
    "total_mi_suu = np.zeros([len(total_frequency),len(dms)])\n",
    "\n",
    "total_mi_scr = np.zeros([len(total_frequency),len(dms)])\n",
    "total_mi_RF = np.zeros([len(total_frequency),len(dms)])\n",
    "total_vv = np.zeros([len(total_frequency),nstep])\n",
    "total_uu = np.zeros([len(total_frequency),nstep])\n",
    "total_x = np.zeros([len(total_frequency),nstep])\n",
    "total_velocity = np.zeros([len(total_frequency),nstep])\n",
    "total_speak = np.zeros([len(total_frequency),nstep])\n",
    "total_upeak = np.zeros([len(total_frequency),nstep])\n",
    "total_vpeak = np.zeros([len(total_frequency),nstep])"
   ]
  },
  {
   "cell_type": "code",
   "execution_count": null,
   "metadata": {},
   "outputs": [],
   "source": []
  },
  {
   "cell_type": "code",
   "execution_count": 5,
   "metadata": {},
   "outputs": [
    {
     "name": "stdout",
     "output_type": "stream",
     "text": [
      "0\n",
      "1\n",
      "2\n",
      "3\n"
     ]
    }
   ],
   "source": [
    "dt = 0.01\n",
    "tau= 1\n",
    "D = 27*10**5\n",
    "mu, sigma = 0,1\n",
    "Tot = nstep*dt\n",
    "\n",
    "T=np.arange(dt,Tot+dt,dt)\n",
    "#OU=np.zeros(nstep)\n",
    "#for i in range(nstep-1):\n",
    "#    OU[i+1]=OU[i]*(1-dt/tau)+math.sqrt(D*dt)*np.random.normal(mu,sigma)\n",
    "OU = np.load('OU_best.npy')\n",
    "for j in range(len(total_frequency)):\n",
    "    print(j)\n",
    "    xx = np.arange(0,xlen)\n",
    "    u = np.zeros(xlen)#cone\n",
    "    z = np.zeros(xlen)#horizontal cell\n",
    "    v = np.zeros(xlen)#bipolar cell\n",
    "    intensitys = np.zeros(nstep)\n",
    "    speak = np.zeros(nstep)\n",
    "    upeak = np.zeros(nstep)\n",
    "    vpeak = np.zeros(nstep)\n",
    "    total_u = np.zeros([int(xlen),nstep])#total cones\n",
    "    total_v = np.zeros([int(xlen),nstep])#total bipolar cells\n",
    "    total_rzv = np.zeros([int(xlen),nstep])#total horizontal feedforward inhibition to bipolar\n",
    "    total_ruv = np.zeros([int(xlen),nstep])#total horizontal feedback inhibition to cone\n",
    "    zts = np.zeros([int(xlen),nstep])#horizontal\n",
    "    ss = np.zeros([int(xlen),nstep])#bar\n",
    "    cutoffFreq = total_frequency[j]\n",
    "    b, a = signal.butter(2, 2*cutoffFreq*dt, btype='low', analog=False)\n",
    "    LPOU = signal.filtfilt(b, a, OU)\n",
    "    \n",
    "    for i in range(nstep):\n",
    "        pos = pos_0\n",
    "        speak[i] = LPOU[i]/450\n",
    "        s = np.zeros(xlen)#stimulus\n",
    "        s[int(pos)-hw:int(pos)+hw] = LPOU[i]/450\n",
    "        ru = np.convolve(u,KH,'same')*dxc # feedback from horizontal cell\n",
    "        ruv = np.convolve(u,KV,'same')*dxc # input from cone\n",
    "        duj =(-tau_u*u+k*(s-phi*z))*dt#Cone\n",
    "        dzj =(-tau_z*z+g*ru)*dt#horizontal\n",
    "        dvj = (-tau_v*v+p*((1-psy)*ruv-psy*z))*dt#bipolar\n",
    "        u = u+duj\n",
    "        z = z+dzj\n",
    "        v = v+dvj\n",
    "        total_u[:,i] = u.copy()\n",
    "        total_v[:,i] = v.copy()\n",
    "        ss[:,i] = s\n",
    "        zts[:,i] = z\n",
    "        #total_rzv[:,i] = rzv\n",
    "        total_ruv[:,i] = ruv\n",
    "    x = speak.copy()*dt\n",
    "    x = x.astype(float)\n",
    "    velocity = ndimage.gaussian_filter1d(x.copy(), sigma=5, order=1, mode='reflect')/dt\n",
    "    total_velocity[j,:] = velocity.copy()\n",
    "    total_x[j,:] = x.copy()\n",
    "    vv = total_v[pos_0,:]\n",
    "    uu = total_u[pos_0,:]\n",
    "    total_vv[j,:] = vv\n",
    "    total_uu[j,:] = uu\n",
    "    total_speak[j,:] = speak"
   ]
  },
  {
   "cell_type": "code",
   "execution_count": 6,
   "metadata": {},
   "outputs": [],
   "source": [
    "window = [-2,2] # second\n",
    "total_mi_scrs = np.zeros([len(total_frequency),int((window[1]-window[0])/dt)+1])\n",
    "Information_list = []\n",
    "XOon = 2#1 is off cell, 2 is on cell\n",
    "for j in range(len(total_frequency)):\n",
    "    mi_ss = [mi_quick(total_speak[j,200:],total_speak[j,200:],d) for d in dms]\n",
    "    mi_svv = [mi_quick(total_speak[j,200:],total_vv[j,200:],d) for d in dms]#MI between position and bipolar cell voltage\n",
    "    mi_suu = [mi_quick(total_speak[j,200:],total_uu[j,200:],d) for d in dms]#MI between position and cone voltage\n",
    "    total_mi_ss[j,:] = mi_ss\n",
    "    total_mi_svv[j,:] = mi_svv\n",
    "    total_mi_suu[j,:] = mi_suu\n"
   ]
  },
  {
   "cell_type": "code",
   "execution_count": null,
   "metadata": {},
   "outputs": [],
   "source": []
  },
  {
   "cell_type": "code",
   "execution_count": 7,
   "metadata": {},
   "outputs": [
    {
     "name": "stdout",
     "output_type": "stream",
     "text": [
      "bipolar -0.8300000000000001\n",
      "bipolar -0.58\n",
      "bipolar -0.44\n",
      "bipolar -0.36\n"
     ]
    },
    {
     "data": {
      "text/plain": [
       "Text(0.5, 1.0, 'MI between position and bipolar cell voltage')"
      ]
     },
     "execution_count": 7,
     "metadata": {},
     "output_type": "execute_result"
    },
    {
     "data": {
      "image/png": "[encoded data removed]",
      "text/plain": [
       "<Figure size 432x288 with 1 Axes>"
      ]
     },
     "metadata": {
      "needs_background": "light"
     },
     "output_type": "display_data"
    }
   ],
   "source": [
    "for i in range(len(total_frequency)):\n",
    "    plt.plot(dms*dt,total_mi_svv[i,:],label=str(total_frequency[i])+'Hz')\n",
    "    print('bipolar '+str(dms[np.argmax(total_mi_svv[i,:])]*dt))\n",
    "plt.grid()\n",
    "plt.legend()\n",
    "plt.xlabel('Time(s)')\n",
    "plt.ylabel('MI (bits/s)')\n",
    "plt.title('MI between position and bipolar cell voltage')\n",
    "#plt.savefig('different_frequency.jpg')"
   ]
  },
  {
   "cell_type": "code",
   "execution_count": 8,
   "metadata": {},
   "outputs": [],
   "source": [
    "#np.save('OU_best.npy',OU)"
   ]
  }
 ],
 "metadata": {
  "kernelspec": {
   "display_name": "Python 3",
   "language": "python",
   "name": "python3"
  },
  "language_info": {
   "codemirror_mode": {
    "name": "ipython",
    "version": 3
   },
   "file_extension": ".py",
   "mimetype": "text/x-python",
   "name": "python",
   "nbconvert_exporter": "python",
   "pygments_lexer": "ipython3",
   "version": "3.8.3"
  },
  "toc": {
   "base_numbering": 1,
   "nav_menu": {},
   "number_sections": true,
   "sideBar": true,
   "skip_h1_title": false,
   "title_cell": "Table of Contents",
   "title_sidebar": "Contents",
   "toc_cell": false,
   "toc_position": {},
   "toc_section_display": true,
   "toc_window_display": false
  },
  "varInspector": {
   "cols": {
    "lenName": 16,
    "lenType": 16,
    "lenVar": 40
   },
   "kernels_config": {
    "python": {
     "delete_cmd_postfix": "",
     "delete_cmd_prefix": "del ",
     "library": "var_list.py",
     "varRefreshCmd": "print(var_dic_list())"
    },
    "r": {
     "delete_cmd_postfix": ") ",
     "delete_cmd_prefix": "rm(",
     "library": "var_list.r",
     "varRefreshCmd": "cat(var_dic_list()) "
    }
   },
   "types_to_exclude": [
    "module",
    "function",
    "builtin_function_or_method",
    "instance",
    "_Feature"
   ],
   "window_display": false
  }
 },
 "nbformat": 4,
 "nbformat_minor": 4
}
