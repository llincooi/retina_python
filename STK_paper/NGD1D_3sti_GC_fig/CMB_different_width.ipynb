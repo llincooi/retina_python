{
 "cells": [
  {
   "cell_type": "markdown",
   "source": [
    "# Import and functions"
   ],
   "metadata": {}
  },
  {
   "cell_type": "code",
   "execution_count": 1,
   "source": [
    "import numpy as np\r\n",
    "import matplotlib.pyplot as plt\r\n",
    "# from scipy.io import loadmat\r\n",
    "from numpy import linalg as la\r\n",
    "# from scipy.optimize import curve_fit\r\n",
    "\r\n",
    "%matplotlib inline"
   ],
   "outputs": [],
   "metadata": {}
  },
  {
   "cell_type": "code",
   "execution_count": 2,
   "source": [
    "def Gaussian_filter_1d(x,s):\r\n",
    "    return(np.exp(-(x/s)**2/2))/s/np.sqrt(np.pi*2)\r\n",
    "\r\n",
    "def NGD3L1D_STK(xAxis, tAxis, sigma_dict, tPara_ict, spaceDivideStep = 1, timeDivideStep = 60):\r\n",
    "# divideStep upsample rate\r\n",
    "# tPara_dict must include these temporal parameters: alpha, beta, gamma, g, h, l \r\n",
    "    dx = np.mean(np.diff(xAxis)) / spaceDivideStep\r\n",
    "    xAxis = AxisByHalfLen(xAxis[-1], dx)\r\n",
    "    gaussK = {} # Gassian Kernel\r\n",
    "    for (key,value) in sigma_dict.items():\r\n",
    "        halfKLen = min( value*8, xAxis[-1])\r\n",
    "        kAxis = AxisByHalfLen(halfKLen, dx)\r\n",
    "        gaussK[key] = Gaussian_filter_1d(kAxis,value)\r\n",
    "\r\n",
    "    dt = np.mean(np.diff(tAxis)) / timeDivideStep\r\n",
    "    tAxis = np.arange(0, tAxis[-1]+dt, dt)\r\n",
    "    stimulus = np.zeros([len(tAxis), len(xAxis)])\r\n",
    "    if \"tau_delay\" in tPara_ict:\r\n",
    "        delayed_delta = tAxis /tPara_dict['tau_delay']/tPara_dict['tau_delay'] *np.exp(-tAxis/tPara_dict['tau_delay']) *dt\r\n",
    "        stimulus[:,int(len(xAxis)/2)] = delayed_delta\r\n",
    "    else:\r\n",
    "        stimulus[0,int(len(xAxis)/2)] = 1\r\n",
    "\r\n",
    "    for key in ['alpha','beta','gamma','m','n','g','h','l']: # initialize tPara_ict\r\n",
    "        if not key in tPara_ict.keys(): \r\n",
    "            tPara_ict[key] = 1\r\n",
    "\r\n",
    "    z = np.zeros_like(stimulus)\r\n",
    "    y = np.zeros_like(stimulus)\r\n",
    "    w = np.zeros_like(stimulus)\r\n",
    "\r\n",
    "    for i in np.arange(len(tAxis)-1):\r\n",
    "        R = {'s2y':stimulus[i,:], 'y2z':y[i,:], 'y2w':y[i,:], 'z2y':z[i,:], 'z2w':z[i,:]} # initialization\r\n",
    "        for key in R.keys():\r\n",
    "            if key in gaussK:    R[key] = np.convolve(R[key],gaussK[key],'same')*dx\r\n",
    "\r\n",
    "        dy = (-tPara_dict['alpha']*y[i,:] + tPara_dict['m']*R['s2y'] - tPara_dict['n']*R['z2y'])*dt\r\n",
    "        dz = (-tPara_dict['beta'] *z[i,:] + tPara_dict['g']*R['y2z']                           )*dt\r\n",
    "        dw = (-tPara_dict['gamma']*w[i,:] + tPara_dict['h']*R['y2w'] - tPara_dict['l']*R['z2w'])*dt\r\n",
    "\r\n",
    "        y[i+1,:] = (y[i,:]+dy)\r\n",
    "        z[i+1,:] = (z[i,:]+dz)\r\n",
    "        w[i+1,:] = (w[i,:]+dw)\r\n",
    "    actual_xAxisIndex = np.append( np.arange(int(len(xAxis)/2), -1, -spaceDivideStep)[:0:-1], np.arange(int(len(xAxis)/2), len(xAxis), spaceDivideStep) )\r\n",
    "    y = y[::timeDivideStep, actual_xAxisIndex]/dx/dt #\r\n",
    "    z = z[::timeDivideStep, actual_xAxisIndex]/dx/dt\r\n",
    "    w = w[::timeDivideStep, actual_xAxisIndex]/dx/dt\r\n",
    "\r\n",
    "    return w, z, y\r\n",
    "\r\n",
    "def AxisByHalfLen(halfLen, dx):\r\n",
    "    axis = np.arange(0, halfLen+dx, dx)\r\n",
    "    return np.append(-1*axis[:0:-1], axis)\r\n"
   ],
   "outputs": [],
   "metadata": {}
  },
  {
   "cell_type": "markdown",
   "source": [
    "# Set Parameter"
   ],
   "metadata": {}
  },
  {
   "cell_type": "code",
   "execution_count": 3,
   "source": [
    "# temporal\r\n",
    "dt = 0.01 #large dt will cause  overflow\r\n",
    "Tstep = int(1./dt)\r\n",
    "TKtaxis = np.arange(Tstep)*dt\r\n",
    "\r\n",
    "tPara_dict = {\r\n",
    "'alpha':1.302408,\r\n",
    "'beta':13.024075,\r\n",
    "'gamma':34.901452,\r\n",
    "'g':460.016331,\r\n",
    "'l':0.021331,\r\n",
    "'tau_delay':0.028650,\r\n",
    "'m':127.832600} # m can be nagative for off cell\r\n",
    "\r\n",
    "# spatial\r\n",
    "sigma_dict = dict()\r\n",
    "sigma_dict['y2w'] = 0.20426678569344126 *1.1 # mm from exp data (RF radius = 1.5*sigma)\r\n",
    "sigma_dict['z2w'] = 1.1*sigma_dict['y2w'] \r\n",
    "sigma_dict['y2z'] = 0.05*sigma_dict['y2w']   # has to be small enough\r\n",
    "\r\n",
    "dx = 0.005 # OLED pixel2micro = 7.6\r\n",
    "hXstep =  int(2 /dx) # Half length of xais, (mm)\r\n",
    "SKxaxis = np.arange(-hXstep,hXstep+1)*dx"
   ],
   "outputs": [],
   "metadata": {}
  },
  {
   "cell_type": "markdown",
   "source": [
    "# STK"
   ],
   "metadata": {}
  },
  {
   "cell_type": "code",
   "execution_count": 4,
   "source": [
    "Delta_output_w, zts, Delta_output_y = NGD3L1D_STK(SKxaxis, TKtaxis, sigma_dict, tPara_dict)\r\n",
    "delSTK = Delta_output_w\r\n",
    "\r\n",
    "iSK = np.sum(delSTK, axis = 0)*dt\r\n",
    "iTK = np.sum(delSTK, axis = 1)*dx\r\n",
    "SeSTK = iTK[:, np.newaxis]*iSK[np.newaxis, :]\r\n",
    "SeSTK = SeSTK/np.max(SeSTK)*np.max(delSTK)"
   ],
   "outputs": [],
   "metadata": {}
  },
  {
   "cell_type": "code",
   "execution_count": 5,
   "source": [
    "U,sigma,VT=la.svd(delSTK)\r\n",
    "print((sigma/sum(sigma))[:5])\r\n",
    "for i in range(2):\r\n",
    "    if U[2,i] <0:\r\n",
    "        VT[i,:] = -VT[i,:]\r\n",
    "        U[:,i] = -U[:,i]\r\n",
    "        \r\n",
    "\r\n",
    "SVDSTK = U[:,0][:, np.newaxis]*VT[0,:][np.newaxis, :]*sigma[0]"
   ],
   "outputs": [
    {
     "output_type": "stream",
     "name": "stdout",
     "text": [
      "[9.61498634e-01 3.84461338e-02 5.38562577e-05 1.36575741e-06\n",
      " 9.63243521e-09]\n"
     ]
    }
   ],
   "metadata": {}
  },
  {
   "cell_type": "markdown",
   "source": [
    "# Steady State of Constant Moving Bar\n",
    "SK of moving frame"
   ],
   "metadata": {}
  },
  {
   "cell_type": "code",
   "execution_count": 6,
   "source": [
    "def StadyState_ConstMoveDelta(v, Kernel, dx, dt): \r\n",
    "    v = v*dt/dx #dimensionless v\r\n",
    "    if Kernel.shape[1]%2 == 0: return\r\n",
    "    addlen = int(v*(Kernel.shape[0]-1))\r\n",
    "    \r\n",
    "    xaxis = np.arange(-int(Kernel.shape[1]/2)-addlen, int(Kernel.shape[1]/2)+1)*dx\r\n",
    "    last_mb_y = np.zeros_like(xaxis)\r\n",
    "    for k in range(Kernel.shape[0]):\r\n",
    "        shift = int(v*k)\r\n",
    "        last_mb_y += np.hstack((np.zeros(addlen-shift) ,Kernel[k,:], np.zeros(shift)))*dt\r\n",
    "    return last_mb_y, xaxis"
   ],
   "outputs": [],
   "metadata": {}
  },
  {
   "cell_type": "code",
   "execution_count": 7,
   "source": [
    "def SquareWave(width, dx): #width in mm\r\n",
    "    halfWidth = int( (width/dx-1)/2 + 0.5) # halfWidth is dimensionless\r\n",
    "    return np.ones(2*halfWidth+1), (2*halfWidth+1)*dx # return a square wave and the actual width of it\r\n",
    "\r\n",
    "def GaussianWave(sigma, dx): # sigma is dimensionless\r\n",
    "    s = sigma/dx # s is dimensionless\r\n",
    "    xaxis = np.arange(-10*int(s), 10*int(s)+1)\r\n",
    "    return (np.exp(-(xaxis/s)**2/2)) # return a Gaussian wave\r\n",
    "\r\n",
    "def MasterConvolve(master, servant):\r\n",
    "    if len(master)>=len(servant):\r\n",
    "        return np.convolve(master, servant, 'same')\r\n",
    "    else:\r\n",
    "        output = np.convolve(master, servant, 'full')\r\n",
    "        sHalfLen = int(len(servant)/2)\r\n",
    "        return output[sHalfLen:-sHalfLen]"
   ],
   "outputs": [],
   "metadata": {}
  },
  {
   "cell_type": "code",
   "execution_count": 8,
   "source": [
    "v = 0.44 #mm/s #berry\r\n",
    "delSKvp, xaxis = StadyState_ConstMoveDelta(v, delSTK, dx, dt)\r\n",
    "SeSKvp,  xaxis = StadyState_ConstMoveDelta(v, SeSTK,  dx, dt)\r\n",
    "SVDSKvp, xaxis = StadyState_ConstMoveDelta(v, SVDSTK, dx, dt)"
   ],
   "outputs": [],
   "metadata": {}
  },
  {
   "cell_type": "code",
   "execution_count": 9,
   "source": [
    "fig, ax = plt.subplots(1,2)\r\n",
    "width_list = np.arange(10, 1200, 100)*1E-3 # it is 0.129 mm in our exp. and 0.133 mm in Berry's.\r\n",
    "squareWave_list = np.array([SquareWave(width, dx) for width in width_list])\r\n",
    "effWidth_list = squareWave_list[:, 1]\r\n",
    "squareWave_list = squareWave_list[:, 0]\r\n",
    "\r\n",
    "del_hw2y = np.array([np.convolve(delSKvp, squareWave, 'same') for squareWave in squareWave_list])\r\n",
    "se_hw2y  = np.array([np.convolve(SeSKvp , squareWave, 'same') for squareWave in squareWave_list])\r\n",
    "svd_hw2y = np.array([np.convolve(SVDSKvp, squareWave, 'same') for squareWave in squareWave_list])\r\n",
    "\r\n",
    "\r\n",
    "ax[0].plot(effWidth_list, xaxis[np.argmax(del_hw2y, axis = 1)], c='b')\r\n",
    "ax[0].plot(effWidth_list, xaxis[np.argmax(se_hw2y, axis = 1)] , c='r')\r\n",
    "ax[0].plot(effWidth_list, xaxis[np.argmax(svd_hw2y, axis = 1)], c='g')\r\n",
    "ax[0].set_ylabel('Precede (center)')\r\n",
    "ax[0].plot([effWidth_list[0], effWidth_list[-1]], [0.5*effWidth_list[0], 0.5*effWidth_list[-1]], c = 'gray', alpha = 0.8)\r\n",
    "ax[1].plot(effWidth_list, np.max(del_hw2y, axis = 1), c='b')\r\n",
    "ax[1].plot(effWidth_list, np.max(se_hw2y, axis = 1), c='r')\r\n",
    "ax[1].plot(effWidth_list, np.max(svd_hw2y, axis = 1), c='g')\r\n",
    "ax[1].set_ylabel('Responce Height')\r\n",
    "for axi in ax:\r\n",
    "    axi.set_xlabel('Bar width (mm)')\r\n",
    "    axi.legend((r'$\\delta$', 'Se', 'SVD', 'Bar Edge'),loc='best', prop={'size': 'large', 'family': 'monospace'})\r\n",
    "fig.set_size_inches(15,5)"
   ],
   "outputs": [
    {
     "output_type": "stream",
     "name": "stderr",
     "text": [
      "C:\\Users\\hydro_leo\\anaconda3\\lib\\site-packages\\ipykernel_launcher.py:3: VisibleDeprecationWarning: Creating an ndarray from ragged nested sequences (which is a list-or-tuple of lists-or-tuples-or ndarrays with different lengths or shapes) is deprecated. If you meant to do this, you must specify 'dtype=object' when creating the ndarray.\n",
      "  This is separate from the ipykernel package so we can avoid doing imports until\n"
     ]
    },
    {
     "output_type": "display_data",
     "data": {
      "image/png": "[encoded data removed]",
      "text/plain": [
       "<Figure size 1080x360 with 2 Axes>"
      ]
     },
     "metadata": {
      "needs_background": "light"
     }
    }
   ],
   "metadata": {}
  },
  {
   "cell_type": "code",
   "execution_count": null,
   "source": [],
   "outputs": [],
   "metadata": {}
  }
 ],
 "metadata": {
  "kernelspec": {
   "name": "python3",
   "display_name": "Python 3.7.11 64-bit ('base': conda)"
  },
  "language_info": {
   "codemirror_mode": {
    "name": "ipython",
    "version": 3
   },
   "file_extension": ".py",
   "mimetype": "text/x-python",
   "name": "python",
   "nbconvert_exporter": "python",
   "pygments_lexer": "ipython3",
   "version": "3.7.11"
  },
  "toc": {
   "base_numbering": 1,
   "nav_menu": {},
   "number_sections": true,
   "sideBar": true,
   "skip_h1_title": false,
   "title_cell": "Table of Contents",
   "title_sidebar": "Contents",
   "toc_cell": false,
   "toc_position": {
    "height": "calc(100% - 180px)",
    "left": "10px",
    "top": "150px",
    "width": "165px"
   },
   "toc_section_display": true,
   "toc_window_display": true
  },
  "varInspector": {
   "cols": {
    "lenName": 16,
    "lenType": 16,
    "lenVar": 40
   },
   "kernels_config": {
    "python": {
     "delete_cmd_postfix": "",
     "delete_cmd_prefix": "del ",
     "library": "var_list.py",
     "varRefreshCmd": "print(var_dic_list())"
    },
    "r": {
     "delete_cmd_postfix": ") ",
     "delete_cmd_prefix": "rm(",
     "library": "var_list.r",
     "varRefreshCmd": "cat(var_dic_list()) "
    }
   },
   "position": {
    "height": "471px",
    "left": "1521px",
    "right": "20px",
    "top": "117px",
    "width": "350px"
   },
   "types_to_exclude": [
    "module",
    "function",
    "builtin_function_or_method",
    "instance",
    "_Feature"
   ],
   "window_display": true
  },
  "interpreter": {
   "hash": "d0b1fa5f8190b2a41a5ff5a3ea72cebc53c78344021de4da08a7d779ac26dba6"
  }
 },
 "nbformat": 4,
 "nbformat_minor": 2
}