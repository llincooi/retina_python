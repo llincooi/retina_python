{
 "cells": [
  {
   "cell_type": "markdown",
   "metadata": {},
   "source": [
    "# Functions"
   ]
  },
  {
   "cell_type": "code",
   "execution_count": 1,
   "metadata": {
    "run_control": {
     "marked": true
    }
   },
   "outputs": [],
   "source": [
    "import numpy as np\n",
    "import matplotlib.pyplot as plt\n",
    "from matplotlib.ticker import MaxNLocator\n",
    "from scipy import ndimage\n",
    "from scipy.io import loadmat\n",
    "from scipy.fft import fft, fftfreq\n",
    "import pandas as pd\n",
    "import os\n",
    "%matplotlib inline\n",
    "\n",
    "plt.rcParams['figure.facecolor'] = 'white'\n",
    "# plt.rcParams[\"font.family\"] = \"Times New Roman\"\n",
    "# plt.rcParams[\"font.size\"] = 16\n",
    "plt.rcParams[\"mathtext.fontset\"] = \"cm\""
   ]
  },
  {
   "cell_type": "code",
   "execution_count": 2,
   "metadata": {},
   "outputs": [
    {
     "name": "stdout",
     "output_type": "stream",
     "text": [
      "importing Jupyter notebook from time_shifted_PID.ipynb\n",
      "importing Jupyter notebook from J_broja_PID.ipynb\n",
      "importing Jupyter notebook from Spike_Generation.ipynb\n",
      "importing Jupyter notebook from StimulusnResponse.ipynb\n",
      "importing Jupyter notebook from SpatialTemporal_Correlation_and_Convolution.ipynb\n",
      "importing Jupyter notebook from NGD_TK_AS.ipynb\n"
     ]
    }
   ],
   "source": [
    "import import_ipynb\n",
    "try:\n",
    "    os.chdir('C:\\\\Users\\\\hydro_leo\\\\Documents\\\\GitHub\\\\python-code\\\\Modules')\n",
    "except:\n",
    "    os.chdir('C:\\\\Users\\\\llinc\\\\GitHub\\\\python-code\\\\Modules')\n",
    "from time_shifted_PID import Histo3D2Dict\n",
    "from time_shifted_PID import PIfunc\n",
    "from time_shifted_PID import EqualState\n",
    "from Spike_Generation import Spike_Time_Generater\n",
    "from Spike_Generation import NL\n",
    "from StimulusnResponse import SSG\n",
    "from SpatialTemporal_Correlation_and_Convolution import ST_STA\n",
    "from NGD_TK_AS import NGD2L_TK_AS\n",
    "from NGD_TK_AS import ParaTrans"
   ]
  },
  {
   "cell_type": "code",
   "execution_count": 3,
   "metadata": {},
   "outputs": [],
   "source": [
    "def angular_gradient(x):\n",
    "    diffx= np.gradient(x)\n",
    "    diffx[np.abs(diffx)>0.6*np.pi] -= np.pi*diffx[np.abs(diffx)>0.6*np.pi]/abs(diffx[np.abs(diffx)>0.6*np.pi])\n",
    "    return diffx"
   ]
  },
  {
   "cell_type": "code",
   "execution_count": 4,
   "metadata": {},
   "outputs": [],
   "source": [
    "def cm2inch(value):\n",
    "    return value/2.54"
   ]
  },
  {
   "cell_type": "markdown",
   "metadata": {},
   "source": [
    "# Figsetup\n",
    "\n",
    "shortcaption: TLMI and TLPI from a iP-RGC and a LC model<br>\n",
    "label: LPOU"
   ]
  },
  {
   "cell_type": "code",
   "execution_count": 5,
   "metadata": {},
   "outputs": [],
   "source": [
    "filename = 'LPOU'"
   ]
  },
  {
   "cell_type": "markdown",
   "metadata": {},
   "source": [
    "# Make and Plot series"
   ]
  },
  {
   "cell_type": "code",
   "execution_count": 6,
   "metadata": {
    "run_control": {
     "marked": true
    }
   },
   "outputs": [],
   "source": [
    "Fc_list = [2, 4, 7, 10]\n",
    "\n",
    "dt = 0.01\n",
    "tot = 500\n",
    "LPOU_list = SSG(Fc_list, dt, tot)"
   ]
  },
  {
   "cell_type": "code",
   "execution_count": 7,
   "metadata": {},
   "outputs": [],
   "source": [
    "T = np.arange(0,tot,dt)\n",
    "# zo=10\n",
    "xf = np.linspace(0.0, 0.5/dt, int(len(T)/2))\n",
    "yf_list = []\n",
    "zo=10\n",
    "for LPOU in LPOU_list:\n",
    "    LPOU = (LPOU-np.mean(LPOU))/np.std(LPOU)*2+10\n",
    "    yf = np.abs(fft(LPOU))\n",
    "    yf = 2/len(T) * yf[:(int(len(T)/2))]\n",
    "#     plt.bar(xf, yf, zorder = zo)\n",
    "    yf_list.append(yf.copy())\n",
    "    zo-=1"
   ]
  },
  {
   "cell_type": "code",
   "execution_count": 10,
   "metadata": {},
   "outputs": [
    {
     "ename": "AttributeError",
     "evalue": "module 'numpy' has no attribute 'smooth'",
     "output_type": "error",
     "traceback": [
      "\u001b[1;31m---------------------------------------------------------------------------\u001b[0m",
      "\u001b[1;31mAttributeError\u001b[0m                            Traceback (most recent call last)",
      "\u001b[1;32m<ipython-input-10-32241e5063fe>\u001b[0m in \u001b[0;36m<module>\u001b[1;34m\u001b[0m\n\u001b[0;32m     16\u001b[0m \u001b[1;32mfor\u001b[0m \u001b[0myf\u001b[0m \u001b[1;32min\u001b[0m \u001b[0myf_list\u001b[0m\u001b[1;33m:\u001b[0m\u001b[1;33m\u001b[0m\u001b[1;33m\u001b[0m\u001b[0m\n\u001b[0;32m     17\u001b[0m \u001b[1;31m#     ax[1].bar(xf[1:], yf[1:], zorder = zo, width = 2*np.mean(np.diff(xf)) )\u001b[0m\u001b[1;33m\u001b[0m\u001b[1;33m\u001b[0m\u001b[1;33m\u001b[0m\u001b[0m\n\u001b[1;32m---> 18\u001b[1;33m     \u001b[0max\u001b[0m\u001b[1;33m[\u001b[0m\u001b[1;36m1\u001b[0m\u001b[1;33m]\u001b[0m\u001b[1;33m.\u001b[0m\u001b[0mplot\u001b[0m\u001b[1;33m(\u001b[0m\u001b[0mxf\u001b[0m\u001b[1;33m[\u001b[0m\u001b[1;36m1\u001b[0m\u001b[1;33m:\u001b[0m\u001b[1;33m]\u001b[0m\u001b[1;33m,\u001b[0m \u001b[0mnp\u001b[0m\u001b[1;33m.\u001b[0m\u001b[0msmooth\u001b[0m\u001b[1;33m(\u001b[0m\u001b[0myf\u001b[0m\u001b[1;33m[\u001b[0m\u001b[1;36m1\u001b[0m\u001b[1;33m:\u001b[0m\u001b[1;33m]\u001b[0m\u001b[1;33m,\u001b[0m \u001b[1;36m10\u001b[0m\u001b[1;33m)\u001b[0m\u001b[1;33m,\u001b[0m \u001b[0mzorder\u001b[0m \u001b[1;33m=\u001b[0m \u001b[0mzo\u001b[0m\u001b[1;33m)\u001b[0m\u001b[1;33m\u001b[0m\u001b[1;33m\u001b[0m\u001b[0m\n\u001b[0m\u001b[0;32m     19\u001b[0m     \u001b[0mzo\u001b[0m\u001b[1;33m-=\u001b[0m\u001b[1;36m1\u001b[0m\u001b[1;33m\u001b[0m\u001b[1;33m\u001b[0m\u001b[0m\n\u001b[0;32m     20\u001b[0m \u001b[1;33m\u001b[0m\u001b[0m\n",
      "\u001b[1;32m~\\anaconda3\\lib\\site-packages\\numpy\\__init__.py\u001b[0m in \u001b[0;36m__getattr__\u001b[1;34m(attr)\u001b[0m\n\u001b[0;32m    218\u001b[0m             \u001b[1;32melse\u001b[0m\u001b[1;33m:\u001b[0m\u001b[1;33m\u001b[0m\u001b[1;33m\u001b[0m\u001b[0m\n\u001b[0;32m    219\u001b[0m                 raise AttributeError(\"module {!r} has no attribute \"\n\u001b[1;32m--> 220\u001b[1;33m                                      \"{!r}\".format(__name__, attr))\n\u001b[0m\u001b[0;32m    221\u001b[0m \u001b[1;33m\u001b[0m\u001b[0m\n\u001b[0;32m    222\u001b[0m         \u001b[1;32mdef\u001b[0m \u001b[0m__dir__\u001b[0m\u001b[1;33m(\u001b[0m\u001b[1;33m)\u001b[0m\u001b[1;33m:\u001b[0m\u001b[1;33m\u001b[0m\u001b[1;33m\u001b[0m\u001b[0m\n",
      "\u001b[1;31mAttributeError\u001b[0m: module 'numpy' has no attribute 'smooth'"
     ]
    },
    {
     "data": {
      "image/png": "[encoded data removed]",
      "text/plain": [
       "<Figure size 432x288 with 2 Axes>"
      ]
     },
     "metadata": {},
     "output_type": "display_data"
    }
   ],
   "source": [
    "plt.rcParams[\"font.size\"] = 8\n",
    "fig, ax = plt.subplots(2,1)\n",
    "for LPOU in LPOU_list:\n",
    "    LPOU = (LPOU-np.mean(LPOU))/np.std(LPOU)*2+10\n",
    "    ax[0].plot(150+np.arange(0,2+dt,dt), LPOU[700:901])\n",
    "ax[0].set_xlabel(r'$t$ (s)', fontsize = 16)\n",
    "ax[0].set_ylabel(r'$\\xi_I(t)$ (mM/mm$^2$)', fontsize = 16)\n",
    "ax[0].set_xlim([0+150, 2+150])\n",
    "# plt.xlim([0, 1])\n",
    "ax[0].legend( ('1-Hz LPOU', '2-Hz LPOU', '3.5-Hz LPOU', '5-Hz LPOU', 'OU'),\n",
    "           loc='best', prop={'size': 10})\n",
    "# fig.tight_layout()\n",
    "# fig.set_size_inches(10, 6)\n",
    "\n",
    "zo=0\n",
    "for yf in yf_list:\n",
    "#     ax[1].bar(xf[1:], yf[1:], zorder = zo, width = 2*np.mean(np.diff(xf)) )\n",
    "    ax[1].plot(xf[1:], yf[1:], zorder = zo)\n",
    "    zo-=1\n",
    "\n",
    "ax[1].set_yscale('log')\n",
    "# ax[1].set_xscale('log')\n",
    "ax[1].set_xlabel('frequency (Hz)', fontsize = 16)\n",
    "ax[1].set_ylabel('Magnitude', fontsize = 16)\n",
    "ax[1].set_xlim([0, 20])\n",
    "ax[1].set_ylim([yf_list[0][-1], 1])\n",
    "ax[1].legend( ('1-Hz LPOU', '2-Hz LPOU', '3.5-Hz LPOU', '5-Hz LPOU', 'OU'),loc='best', prop={'size': 12})\n",
    "fig.tight_layout(h_pad=1)\n",
    "fig.set_size_inches(10, 6)\n"
   ]
  },
  {
   "cell_type": "code",
   "execution_count": 9,
   "metadata": {},
   "outputs": [],
   "source": [
    "# fig = plt.gcf()\n",
    "fig.savefig('D:\\\\GoogleDrive\\\\retina\\\\thesis\\\\presentation\\\\'+filename+'.png',  bbox_inches='tight', pad_inches=0.1, dpi=300)\n",
    "fig.savefig('D:\\\\GoogleDrive\\\\retina\\\\thesis\\\\fig\\\\M\\\\'+filename+'.png',  bbox_inches='tight', pad_inches=0.1, dpi=300)"
   ]
  },
  {
   "cell_type": "code",
   "execution_count": null,
   "metadata": {},
   "outputs": [],
   "source": []
  }
 ],
 "metadata": {
  "kernelspec": {
   "display_name": "Python 3",
   "language": "python",
   "name": "python3"
  },
  "language_info": {
   "codemirror_mode": {
    "name": "ipython",
    "version": 3
   },
   "file_extension": ".py",
   "mimetype": "text/x-python",
   "name": "python",
   "nbconvert_exporter": "python",
   "pygments_lexer": "ipython3",
   "version": "3.7.6"
  },
  "toc": {
   "base_numbering": 1,
   "nav_menu": {
    "height": "187px",
    "width": "383px"
   },
   "number_sections": true,
   "sideBar": true,
   "skip_h1_title": false,
   "title_cell": "Table of Contents",
   "title_sidebar": "Contents",
   "toc_cell": false,
   "toc_position": {
    "height": "789px",
    "left": "119px",
    "top": "229px",
    "width": "165px"
   },
   "toc_section_display": true,
   "toc_window_display": true
  },
  "varInspector": {
   "cols": {
    "lenName": 16,
    "lenType": 16,
    "lenVar": 40
   },
   "kernels_config": {
    "python": {
     "delete_cmd_postfix": "",
     "delete_cmd_prefix": "del ",
     "library": "var_list.py",
     "varRefreshCmd": "print(var_dic_list())"
    },
    "r": {
     "delete_cmd_postfix": ") ",
     "delete_cmd_prefix": "rm(",
     "library": "var_list.r",
     "varRefreshCmd": "cat(var_dic_list()) "
    }
   },
   "position": {
    "height": "273px",
    "left": "1523px",
    "right": "20px",
    "top": "112px",
    "width": "350px"
   },
   "types_to_exclude": [
    "module",
    "function",
    "builtin_function_or_method",
    "instance",
    "_Feature"
   ],
   "window_display": false
  }
 },
 "nbformat": 4,
 "nbformat_minor": 4
}
