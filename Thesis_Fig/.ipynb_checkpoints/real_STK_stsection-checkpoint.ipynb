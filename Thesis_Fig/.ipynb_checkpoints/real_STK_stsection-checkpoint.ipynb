{
 "cells": [
  {
   "cell_type": "markdown",
   "metadata": {},
   "source": [
    "# Figsetup\n",
    "Using chou 20210513 unsort data. <br>\n",
    "shortcaption: A reconstructed kernel from SVD compared with the original kernel<br>\n",
    "label: real_STK_stsection"
   ]
  },
  {
   "cell_type": "code",
   "execution_count": 1,
   "metadata": {},
   "outputs": [],
   "source": [
    "filename = 'real_STK_stsection'"
   ]
  },
  {
   "cell_type": "code",
   "execution_count": 2,
   "metadata": {},
   "outputs": [],
   "source": [
    "import numpy as np\n",
    "import matplotlib.pyplot as plt\n",
    "from scipy import ndimage\n",
    "from scipy.io import loadmat\n",
    "import pandas as pd\n",
    "import os\n",
    "%matplotlib inline\n",
    "\n",
    "plt.rcParams['figure.facecolor'] = 'white'\n",
    "plt.rcParams[\"mathtext.fontset\"] = \"cm\""
   ]
  },
  {
   "cell_type": "code",
   "execution_count": 3,
   "metadata": {},
   "outputs": [],
   "source": [
    "def NGD2L_TK_AS(T, epsilon, gamma, omegastar, deltastar, tau_y, Dmp):\n",
    "    dt = np.mean(np.diff(T))\n",
    "    dt = dt/50\n",
    "    T = np.arange(0, T[-1]+dt, dt)\n",
    "    x = T/tau_y /tau_y *np.exp(-T/tau_y)*dt\n",
    "    \n",
    "    Kw = -Dmp*( 1/np.cos(deltastar)*np.exp(-epsilon*T)*np.cos(T*omegastar+deltastar) -np.exp(-gamma*T) )\n",
    "    w = np.convolve(x, Kw, 'full')[:len(T):50]*dt\n",
    "    return w/(dt)"
   ]
  },
  {
   "cell_type": "code",
   "execution_count": 4,
   "metadata": {},
   "outputs": [],
   "source": [
    "figmap = [[np.nan, 7,15,23,31,39,47,np.nan],\n",
    "          [     1, 8,16,24,32,40,48,    55],\n",
    "          [     2, 9,17,25,33,41,49,    56],\n",
    "          [     3,10,18,26,34,42,50,    57],\n",
    "          [     4,11,19,27,35,43,51,    58],\n",
    "          [     5,12,20,28,36,44,52,    59],\n",
    "          [     6,13,21,29,37,45,53,    60],\n",
    "          [np.nan,14,22,30,38,46,54,np.nan]]\n",
    "figmap = np.array(figmap)\n",
    "figmap = np.flipud(figmap)"
   ]
  },
  {
   "cell_type": "markdown",
   "metadata": {},
   "source": [
    "# load files "
   ]
  },
  {
   "cell_type": "code",
   "execution_count": 5,
   "metadata": {},
   "outputs": [],
   "source": [
    "BS = loadmat('D:\\\\GoogleDrive\\\\retina\\\\oled_boundary_set', squeeze_me =True)\n",
    "\n",
    "exp_folder = 'D:\\\\GoogleDrive\\\\retina\\\\Chou\\'s data\\\\20210513\\\\'\n",
    "direction = 'UD'\n",
    "\n",
    "SVDnSTK = loadmat(exp_folder+'Analyzed_data\\\\30Hz_27_RF_15min_re\\\\unsort\\\\STK.mat'\n",
    "                  , squeeze_me =True)\n",
    "RFprop  = loadmat(exp_folder+'Analyzed_data\\\\30Hz_27_RF_15min_re\\\\unsort\\\\RF_properties.mat'\n",
    "                  , squeeze_me =True)\n",
    "\n",
    "loadfiles = np.load(exp_folder+'\\\\Analyzed_data\\\\fitNGD2LASpara.npz', allow_pickle=True)"
   ]
  },
  {
   "cell_type": "code",
   "execution_count": 6,
   "metadata": {},
   "outputs": [],
   "source": [
    "r = RFprop['RF_properties']['radius']\n",
    "\n",
    "RFprop = RFprop['RF_properties']\n",
    "\n",
    "STK = SVDnSTK['gauss_RF']\n",
    "\n",
    "# cn = 9"
   ]
  },
  {
   "cell_type": "markdown",
   "metadata": {},
   "source": [
    "# Single RF"
   ]
  },
  {
   "cell_type": "code",
   "execution_count": 7,
   "metadata": {},
   "outputs": [],
   "source": [
    "cn = 9"
   ]
  },
  {
   "cell_type": "code",
   "execution_count": 8,
   "metadata": {},
   "outputs": [],
   "source": [
    "centerx = (RFprop['X_Coor'][cn-1]-BS['leftx_bd'])/(BS['rightx_bd']-BS['leftx_bd'])*27-0.5\n",
    "centery = (RFprop['Y_Coor'][cn-1]-BS['lefty_bd'])/(BS['righty_bd']-BS['lefty_bd'])*27-0.5"
   ]
  },
  {
   "cell_type": "code",
   "execution_count": 9,
   "metadata": {},
   "outputs": [
    {
     "data": {
      "image/png": "[encoded data removed]",
      "text/plain": [
       "<Figure size 720x720 with 1 Axes>"
      ]
     },
     "metadata": {},
     "output_type": "display_data"
    }
   ],
   "source": [
    "plt.rcParams[\"font.size\"] = 14\n",
    "plt.rcParams['xtick.labelsize'] =  10\n",
    "plt.rcParams['ytick.labelsize'] =  10\n",
    "\n",
    "plt.imshow(STK[:,:,4,cn-1], cmap = 'gray')\n",
    "plt.yticks(np.arange(0,STK.shape[0],5), np.round(np.arange(0,STK.shape[0],5)/30, 3))\n",
    "plt.ylabel(r'$t$ (s)')\n",
    "plt.xticks([1, 6, 11, 16, 21, 26], np.round( np.arange(-3,3)*5/27*267*BS['micro_per_pixel'] ) )\n",
    "plt.xlabel(r'$x$ ($\\mu m$)')\n",
    "# plt.title(r'$K_{st}(t, x)$', fontsize = 18)\n",
    "plt.gcf().set_size_inches(10, 10)\n",
    "\n",
    "plt.gcf().savefig('D:\\\\GoogleDrive\\\\retina\\\\thesis\\\\fig\\\\R\\\\'+filename+'.png',  bbox_inches='tight', pad_inches=0.1, dpi=300)"
   ]
  },
  {
   "cell_type": "code",
   "execution_count": null,
   "metadata": {},
   "outputs": [],
   "source": []
  }
 ],
 "metadata": {
  "kernelspec": {
   "display_name": "Python 3",
   "language": "python",
   "name": "python3"
  },
  "language_info": {
   "codemirror_mode": {
    "name": "ipython",
    "version": 3
   },
   "file_extension": ".py",
   "mimetype": "text/x-python",
   "name": "python",
   "nbconvert_exporter": "python",
   "pygments_lexer": "ipython3",
   "version": "3.7.6"
  },
  "toc": {
   "base_numbering": 1,
   "nav_menu": {},
   "number_sections": true,
   "sideBar": true,
   "skip_h1_title": false,
   "title_cell": "Table of Contents",
   "title_sidebar": "Contents",
   "toc_cell": false,
   "toc_position": {
    "height": "calc(100% - 180px)",
    "left": "10px",
    "top": "150px",
    "width": "165px"
   },
   "toc_section_display": true,
   "toc_window_display": true
  },
  "varInspector": {
   "cols": {
    "lenName": 16,
    "lenType": 16,
    "lenVar": 40
   },
   "kernels_config": {
    "python": {
     "delete_cmd_postfix": "",
     "delete_cmd_prefix": "del ",
     "library": "var_list.py",
     "varRefreshCmd": "print(var_dic_list())"
    },
    "r": {
     "delete_cmd_postfix": ") ",
     "delete_cmd_prefix": "rm(",
     "library": "var_list.r",
     "varRefreshCmd": "cat(var_dic_list()) "
    }
   },
   "position": {
    "height": "331px",
    "left": "1550px",
    "right": "20px",
    "top": "120px",
    "width": "350px"
   },
   "types_to_exclude": [
    "module",
    "function",
    "builtin_function_or_method",
    "instance",
    "_Feature"
   ],
   "window_display": false
  }
 },
 "nbformat": 4,
 "nbformat_minor": 4
}
