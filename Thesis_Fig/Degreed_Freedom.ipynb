{
 "cells": [
  {
   "cell_type": "markdown",
   "metadata": {},
   "source": [
    "# Fig setup\n",
    "Using chou 20210513 unsort data Ch9.<br>\n",
    "shortcaption: <br>\n",
    "label: Degreed_Freedom"
   ]
  },
  {
   "cell_type": "code",
   "execution_count": 1,
   "metadata": {},
   "outputs": [],
   "source": [
    "filename = 'Degreed_Freedom'"
   ]
  },
  {
   "cell_type": "markdown",
   "metadata": {},
   "source": [
    "# Import and functions"
   ]
  },
  {
   "cell_type": "code",
   "execution_count": 2,
   "metadata": {},
   "outputs": [
    {
     "name": "stdout",
     "output_type": "stream",
     "text": [
      "importing Jupyter notebook from SpatialTemporal_Correlation_and_Convolution.ipynb\n",
      "importing Jupyter notebook from StimulusnResponse.ipynb\n"
     ]
    }
   ],
   "source": [
    "import numpy as np\n",
    "import matplotlib.pyplot as plt\n",
    "from scipy.io import loadmat\n",
    "import import_ipynb\n",
    "import pandas as pd\n",
    "import os\n",
    "\n",
    "\n",
    "try:\n",
    "    os.chdir('C:\\\\Users\\\\hydro_leo\\\\Documents\\\\GitHub\\\\python-code\\\\Modules')\n",
    "except:\n",
    "    os.chdir('C:\\\\Users\\\\llinc\\\\GitHub\\\\python-code\\\\Modules')\n",
    "from SpatialTemporal_Correlation_and_Convolution import STconvolve\n",
    "from StimulusnResponse import SSG\n",
    "%matplotlib inline"
   ]
  },
  {
   "cell_type": "code",
   "execution_count": 3,
   "metadata": {},
   "outputs": [],
   "source": [
    "#This function deals with differentiation of angle within [-pi,pi).\n",
    "#It will fail if angle array x change too fast.\n",
    "def angular_gradient(x):\n",
    "    diffx= np.gradient(x)\n",
    "    diffx[np.abs(diffx)>0.6*np.pi] -= np.pi*diffx[np.abs(diffx)>0.6*np.pi]/abs(diffx[np.abs(diffx)>0.6*np.pi])\n",
    "    return diffx"
   ]
  },
  {
   "cell_type": "code",
   "execution_count": 4,
   "metadata": {},
   "outputs": [],
   "source": [
    "def ParaTrans(ASparadict, mag):     # because of overfitting, I assume alpha = mag*beta\n",
    "    for k in ASparadict.keys():\n",
    "        globals()[k] = ASparadict[k]\n",
    "    global beta, alpha, g, l, Amp \n",
    "    \n",
    "    beta = epsilon*2/(1+mag)\n",
    "    alpha = epsilon*2*mag/(1+mag)\n",
    "    g = omegastar**2 + (alpha-beta)**2 /4\n",
    "    l = ((2*omegastar*np.tan(deltastar)*(-beta+gamma)+(alpha-beta)*(beta-gamma)+2*g)/\n",
    "                (g*(-alpha-beta+2*gamma-2*omegastar*np.tan(deltastar))))\n",
    "    Amp = Dmp*(g+alpha*beta-alpha*gamma-beta*gamma+gamma**2)/(-beta+gamma+g*l)\n",
    "    DiffParadict = {'alpha':[], 'beta':[], 'gamma':[], 'g':[], 'l':[], 'tau_y':[], 'Amp':[], 'error':[]}\n",
    "    for k in DiffParadict.keys():\n",
    "        DiffParadict[k] = globals()[k]\n",
    "    return DiffParadict"
   ]
  },
  {
   "cell_type": "markdown",
   "metadata": {},
   "source": [
    "# Setting parameters from Exp. data"
   ]
  },
  {
   "cell_type": "code",
   "execution_count": 5,
   "metadata": {},
   "outputs": [],
   "source": [
    "exp_folder = 'D:\\\\GoogleDrive\\\\retina\\\\Chou\\'s data\\\\20210513'\n",
    "direction = 'UD'\n",
    "cn = 9"
   ]
  },
  {
   "cell_type": "markdown",
   "metadata": {},
   "source": [
    "## Temporal "
   ]
  },
  {
   "cell_type": "code",
   "execution_count": 6,
   "metadata": {},
   "outputs": [
    {
     "data": {
      "text/plain": [
       "epsilon       7.163241\n",
       "gamma        34.901452\n",
       "omegastar    20.631698\n",
       "deltastar    -0.450280\n",
       "tau_y         0.028650\n",
       "Dmp           3.389743\n",
       "error         1.308050\n",
       "Name: 8, dtype: float64"
      ]
     },
     "execution_count": 6,
     "metadata": {},
     "output_type": "execute_result"
    }
   ],
   "source": [
    "NGD2L1DASpara = np.load(exp_folder + '\\\\Analyzed_data\\\\fitNGD2LASpara.npz', allow_pickle=True)\n",
    "for k in NGD2L1DASpara.files:\n",
    "    vars()[k] = NGD2L1DASpara[k][()]\n",
    "\n",
    "pd.DataFrame(para_dict).loc[cn-1]"
   ]
  },
  {
   "cell_type": "code",
   "execution_count": 8,
   "metadata": {},
   "outputs": [
    {
     "name": "stderr",
     "output_type": "stream",
     "text": [
      "C:\\Users\\llinc\\anaconda3\\lib\\site-packages\\ipykernel_launcher.py:10: RuntimeWarning: invalid value encountered in true_divide\n",
      "  # Remove the CWD from sys.path while we load stuff.\n"
     ]
    },
    {
     "data": {
      "text/plain": [
       "alpha      1.302408\n",
       "beta      13.024075\n",
       "gamma     34.901452\n",
       "g        460.016331\n",
       "l          0.021331\n",
       "tau_y      0.028650\n",
       "Amp      127.832600\n",
       "error      1.308050\n",
       "Name: 8, dtype: float64"
      ]
     },
     "execution_count": 8,
     "metadata": {},
     "output_type": "execute_result"
    }
   ],
   "source": [
    "dt = 0.01 #large dt will cause  overflow\n",
    "Tstep = int(1./dt)\n",
    "TKtaxis = np.arange(Tstep)*dt\n",
    "\n",
    "FBFF_para_dict  = pd.DataFrame(ParaTrans(para_dict, 0.1)).loc[cn-1]\n",
    "FBFF_para_dict"
   ]
  },
  {
   "cell_type": "code",
   "execution_count": 12,
   "metadata": {},
   "outputs": [
    {
     "name": "stderr",
     "output_type": "stream",
     "text": [
      "C:\\Users\\llinc\\anaconda3\\lib\\site-packages\\ipykernel_launcher.py:10: RuntimeWarning: invalid value encountered in true_divide\n",
      "  # Remove the CWD from sys.path while we load stuff.\n"
     ]
    }
   ],
   "source": [
    "\n",
    "\n",
    "\n",
    "ratio = np.exp(np.linspace(-2.4,2.4,100))\n",
    "# ratio = np.arange(1,10)\n",
    "g_list = []\n",
    "l_list = []\n",
    "for i in ratio:\n",
    "    FBFF_para_dict  = pd.DataFrame(ParaTrans(para_dict, i)).loc[cn-1]\n",
    "    g_list.append(FBFF_para_dict['g'].copy())\n",
    "    l_list.append(FBFF_para_dict['l'].copy())\n",
    "    \n"
   ]
  },
  {
   "cell_type": "code",
   "execution_count": 26,
   "metadata": {},
   "outputs": [
    {
     "data": {
      "text/plain": [
       "Text(0.04, 0.92, '(b)')"
      ]
     },
     "execution_count": 26,
     "metadata": {},
     "output_type": "execute_result"
    },
    {
     "data": {
      "image/png": "[encoded data removed]",
      "text/plain": [
       "<Figure size 720x216 with 2 Axes>"
      ]
     },
     "metadata": {},
     "output_type": "display_data"
    }
   ],
   "source": [
    "plt.rcParams['figure.facecolor'] = 'white'\n",
    "plt.rcParams[\"mathtext.fontset\"] = \"cm\"\n",
    "plt.rcParams[\"font.size\"] = 14\n",
    "plt.rcParams['xtick.labelsize'] =  10\n",
    "plt.rcParams['ytick.labelsize'] =  10\n",
    "\n",
    "fig, ax = plt.subplots(1,2, constrained_layout=True)\n",
    "fig.set_size_inches(10,3)\n",
    "\n",
    "for a in ax:\n",
    "    a.set_xlabel(r'$\\alpha / \\beta$')\n",
    "    a.set_xlim([ratio[0], ratio[-1]])\n",
    "    \n",
    "ax[0].plot(ratio, g_list)\n",
    "ax[0].set_ylabel('g')\n",
    "fig.text(0.04, 0.92, r'(a)', ha='left', va='top', transform=ax[0].transAxes, fontsize = 18)\n",
    "ax[1].plot(ratio, l_list)\n",
    "ax[1].set_ylabel('l')\n",
    "ax[1].axhline(0, c= 'gray')\n",
    "fig.text(0.04, 0.92, r'(b)', ha='left', va='top', transform=ax[1].transAxes, fontsize = 18)"
   ]
  },
  {
   "cell_type": "code",
   "execution_count": 25,
   "metadata": {},
   "outputs": [],
   "source": [
    "fig.savefig('D:\\\\GoogleDrive\\\\retina\\\\thesis\\\\fig\\\\A\\\\'+filename+'.png',  bbox_inches='tight', pad_inches=0.1, dpi=300)"
   ]
  },
  {
   "cell_type": "code",
   "execution_count": null,
   "metadata": {},
   "outputs": [],
   "source": []
  }
 ],
 "metadata": {
  "kernelspec": {
   "display_name": "Python 3",
   "language": "python",
   "name": "python3"
  },
  "language_info": {
   "codemirror_mode": {
    "name": "ipython",
    "version": 3
   },
   "file_extension": ".py",
   "mimetype": "text/x-python",
   "name": "python",
   "nbconvert_exporter": "python",
   "pygments_lexer": "ipython3",
   "version": "3.7.6"
  },
  "toc": {
   "base_numbering": 1,
   "nav_menu": {},
   "number_sections": true,
   "sideBar": true,
   "skip_h1_title": false,
   "title_cell": "Table of Contents",
   "title_sidebar": "Contents",
   "toc_cell": false,
   "toc_position": {
    "height": "calc(100% - 180px)",
    "left": "10px",
    "top": "150px",
    "width": "165px"
   },
   "toc_section_display": true,
   "toc_window_display": true
  },
  "varInspector": {
   "cols": {
    "lenName": 16,
    "lenType": 16,
    "lenVar": 40
   },
   "kernels_config": {
    "python": {
     "delete_cmd_postfix": "",
     "delete_cmd_prefix": "del ",
     "library": "var_list.py",
     "varRefreshCmd": "print(var_dic_list())"
    },
    "r": {
     "delete_cmd_postfix": ") ",
     "delete_cmd_prefix": "rm(",
     "library": "var_list.r",
     "varRefreshCmd": "cat(var_dic_list()) "
    }
   },
   "position": {
    "height": "471px",
    "left": "1521px",
    "right": "20px",
    "top": "117px",
    "width": "350px"
   },
   "types_to_exclude": [
    "module",
    "function",
    "builtin_function_or_method",
    "instance",
    "_Feature"
   ],
   "window_display": false
  }
 },
 "nbformat": 4,
 "nbformat_minor": 2
}
