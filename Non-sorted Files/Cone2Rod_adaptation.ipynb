{
 "cells": [
  {
   "cell_type": "code",
   "execution_count": 1,
   "metadata": {},
   "outputs": [],
   "source": [
    "import numpy as np\n",
    "import matplotlib.pyplot as plt\n",
    "from mpl_toolkits import mplot3d\n",
    "import math\n",
    "from scipy import signal\n",
    "from scipy.fftpack import fft\n",
    "from scipy import ndimage\n",
    "from scipy import special\n",
    "import os\n",
    "import math\n",
    "%matplotlib inline"
   ]
  },
  {
   "cell_type": "code",
   "execution_count": 2,
   "metadata": {},
   "outputs": [
    {
     "name": "stdout",
     "output_type": "stream",
     "text": [
      "importing Jupyter notebook from SpatialTemporal_Correlation_and_Convolution.ipynb\n"
     ]
    }
   ],
   "source": [
    "import import_ipynb\n",
    "try:\n",
    "    os.chdir('C:\\\\Users\\\\hydro_leo\\\\Documents\\\\GitHub\\\\python-code\\\\Modules')\n",
    "except:\n",
    "    os.chdir('C:\\\\Users\\\\llinc\\\\GitHub\\\\python-code\\\\Modules')\n",
    "from SpatialTemporal_Correlation_and_Convolution import STcorrelate\n",
    "from SpatialTemporal_Correlation_and_Convolution import ST_STA\n",
    "from SpatialTemporal_Correlation_and_Convolution import STconvolve"
   ]
  },
  {
   "cell_type": "markdown",
   "metadata": {},
   "source": [
    "# C-H-R"
   ]
  },
  {
   "cell_type": "code",
   "execution_count": 3,
   "metadata": {},
   "outputs": [],
   "source": [
    "dt = 0.001 #s\n",
    "I = np.zeros(int(6/dt))\n",
    "I[int(2/dt):int(4/dt)]= 0.26#R/s\n",
    "T = np.arange(len(I))*dt"
   ]
  },
  {
   "cell_type": "code",
   "execution_count": 4,
   "metadata": {},
   "outputs": [],
   "source": [
    "#Cone\n",
    "C_tau_y = 0.043 #s\n",
    "C_tau_z = 0.45 #s\n",
    "gamma = 0.64\n",
    "Ttemp = np.arange(0,int(C_tau_y/dt*15))*dt\n",
    "C_Ky = Ttemp/C_tau_y /C_tau_y *np.exp(-Ttemp/C_tau_y)\n",
    "Ttemp = np.arange(0,int(min(C_tau_z/dt*8,len(I)/2)))*dt\n",
    "C_Kz = gamma*Ttemp/C_tau_y /C_tau_y *np.exp(-Ttemp/C_tau_y)+(1-gamma)*Ttemp/C_tau_z /C_tau_z *np.exp(-Ttemp/C_tau_z)\n",
    "\n",
    "#Rod\n",
    "R_tau_y = 0.017 #s\n",
    "R_tau_w = 0.26 #s\n",
    "Ttemp = np.arange(0,int(R_tau_y/dt*15))*dt\n",
    "R_Ky = Ttemp/R_tau_y /R_tau_y *np.exp(-Ttemp/R_tau_y)\n",
    "R_Kz = R_Ky.copy()\n",
    "Ttemp = np.arange(0,int(min(R_tau_w/dt*8,len(I)/2)))*dt\n",
    "R_Kw = Ttemp/R_tau_w /R_tau_w *np.exp(-Ttemp/R_tau_w)"
   ]
  },
  {
   "cell_type": "code",
   "execution_count": 5,
   "metadata": {},
   "outputs": [],
   "source": [
    "def TemporalKernelInput(I, K, dt):\n",
    "    nK = np.append(np.zeros(len(K)-1),K)\n",
    "    if len(nK) > len(I):\n",
    "        print('input too short')\n",
    "        return np.nan\n",
    "    else:\n",
    "        return np.convolve(I, nK, 'same')*dt\n",
    "\n",
    "I_yC = TemporalKernelInput(I, C_Ky, dt)\n",
    "I_zC = TemporalKernelInput(I, C_Kz, dt)\n",
    "I_yR = TemporalKernelInput(I, R_Ky, dt)\n",
    "I_zR = TemporalKernelInput(I, R_Kz, dt)\n",
    "I_wR = TemporalKernelInput(I, R_Kw, dt)"
   ]
  },
  {
   "cell_type": "code",
   "execution_count": 11,
   "metadata": {
    "run_control": {
     "marked": false
    }
   },
   "outputs": [],
   "source": [
    "C_tau = 0.024#s\n",
    "R_tau = 0.6#s\n",
    "H_tau = 0.300#s\n",
    "C_alpha = -8.8e-6*100 #s/R*\n",
    "C_bata = 1.2e-5*100 #s/R*\n",
    "R_alpha = -3.9e-3*500 #s/R*\n",
    "R_bata = 3.9e-3*500 #s/R*\n",
    "delta = 2.9e-5 #s/R*\n",
    "H_alpha = 80 #1/R*\n",
    "H_bata = -2.8 #1/R*\n",
    "\n",
    "cone = np.zeros_like(I)\n",
    "coneincreasing = np.zeros_like(I)\n",
    "rod = np.zeros_like(I)\n",
    "purod = np.zeros_like(I)\n",
    "horizontal = np.zeros_like(I)\n",
    "for i in range(len(I)):\n",
    "    cone[i] = cone[i-1]+dt/C_tau*(C_alpha*I_yC[i]-(1+C_bata*I_zC[i])*cone[i-1])\n",
    "    horizontal[i] = horizontal[i-1]+dt/H_tau*(H_alpha*cone[i]-(1+H_bata*cone[i])*horizontal[i-1])\n",
    "    rod[i] = rod[i-1]+dt/R_tau*(R_alpha*I_yR[i]-(1+R_bata*I_zR[i])*(rod[i-1]+horizontal[i]))/(1+delta*I_wR[i])\n",
    "    purod[i] = purod[i-1]+dt/R_tau*(R_alpha*I_yR[i]-(1+R_bata*I_zR[i])*purod[i-1])/(1+delta*I_wR[i])"
   ]
  },
  {
   "cell_type": "code",
   "execution_count": 12,
   "metadata": {
    "run_control": {
     "marked": false
    }
   },
   "outputs": [
    {
     "data": {
      "text/plain": [
       "<matplotlib.legend.Legend at 0x1c4e69fd748>"
      ]
     },
     "execution_count": 12,
     "metadata": {},
     "output_type": "execute_result"
    },
    {
     "data": {
      "image/png": "[encoded data removed]",
      "text/plain": [
       "<Figure size 432x288 with 1 Axes>"
      ]
     },
     "metadata": {
      "needs_background": "light"
     },
     "output_type": "display_data"
    }
   ],
   "source": [
    "# plt.plot(cone, label = 'cone')\n",
    "# plt.plot(horizontal, label = 'horizontal')\n",
    "# plt.plot(rod, label = 'rod')\n",
    "plt.plot(purod, label = 'pure rod')\n",
    "plt.legend(loc='best', prop={'size': 'large', 'family': 'monospace'})"
   ]
  },
  {
   "cell_type": "code",
   "execution_count": 8,
   "metadata": {},
   "outputs": [],
   "source": [
    "# plt.plot(cone_1090, label = '1090')\n",
    "# plt.plot(cone_110, label = '110')\n",
    "# plt.plot(cone_13, label = '13')\n",
    "# plt.plot(cone_1p5, label = '1.5')\n",
    "# plt.legend(loc='best', prop={'size': 'large', 'family': 'monospace'})"
   ]
  },
  {
   "cell_type": "code",
   "execution_count": 9,
   "metadata": {},
   "outputs": [
    {
     "data": {
      "text/plain": [
       "[<matplotlib.lines.Line2D at 0x1c4e6905708>]"
      ]
     },
     "execution_count": 9,
     "metadata": {},
     "output_type": "execute_result"
    },
    {
     "data": {
      "image/png": "[encoded data removed]",
      "text/plain": [
       "<Figure size 432x288 with 1 Axes>"
      ]
     },
     "metadata": {
      "needs_background": "light"
     },
     "output_type": "display_data"
    }
   ],
   "source": [
    "plt.plot(R_bata*I_zR)"
   ]
  },
  {
   "cell_type": "code",
   "execution_count": 10,
   "metadata": {},
   "outputs": [
    {
     "data": {
      "text/plain": [
       "0.0"
      ]
     },
     "execution_count": 10,
     "metadata": {},
     "output_type": "execute_result"
    }
   ],
   "source": [
    "R_bata*I_zR[i]"
   ]
  },
  {
   "cell_type": "markdown",
   "metadata": {},
   "source": [
    "# Rod"
   ]
  },
  {
   "cell_type": "code",
   "execution_count": 56,
   "metadata": {},
   "outputs": [],
   "source": [
    "dt = 0.001 #s\n",
    "I = np.zeros(int(6/dt))\n",
    "I[int(2/dt):int(4/dt)]= 1#R/s\n",
    "T = np.arange(len(I))*dt\n",
    "\n",
    "#Rod\n",
    "R_tau_y = 0.017 #s\n",
    "R_tau_w = 0.26 #s\n",
    "Ttemp = np.arange(0,int(R_tau_y/dt*15))*dt\n",
    "R_Ky = Ttemp/R_tau_y /R_tau_y *np.exp(-Ttemp/R_tau_y)\n",
    "R_Kz = R_Ky.copy()\n",
    "Ttemp = np.arange(0,int(min(R_tau_w/dt*8,len(I)/2)))*dt\n",
    "R_Kw = Ttemp/R_tau_w /R_tau_w *np.exp(-Ttemp/R_tau_w)\n",
    "\n",
    "def TemporalKernelInput(I, K, dt):\n",
    "    nK = np.append(np.zeros(len(K)-1),K)\n",
    "    if len(nK) > len(I):\n",
    "        print('input too short')\n",
    "        return np.nan\n",
    "    else:\n",
    "        return np.convolve(I, nK, 'same')*dt\n",
    "\n",
    "I_yR0 = TemporalKernelInput(I, R_Ky, dt)\n",
    "I_zR0 = TemporalKernelInput(I, R_Kz, dt)\n",
    "I_wR0 = TemporalKernelInput(I, R_Kw, dt)"
   ]
  },
  {
   "cell_type": "code",
   "execution_count": 73,
   "metadata": {},
   "outputs": [
    {
     "data": {
      "text/plain": [
       "<matplotlib.legend.Legend at 0x1c4f031a648>"
      ]
     },
     "execution_count": 73,
     "metadata": {},
     "output_type": "execute_result"
    },
    {
     "data": {
      "image/png": "[encoded data removed]",
      "text/plain": [
       "<Figure size 432x288 with 1 Axes>"
      ]
     },
     "metadata": {
      "needs_background": "light"
     },
     "output_type": "display_data"
    }
   ],
   "source": [
    "MAG = 0.01\n",
    "R_tau = 0.6#s\n",
    "R_alpha = -3.9e-3*MAG #s/R*\n",
    "R_bata = 3.9e-3*MAG #s/R*\n",
    "delta = 2.9e-5*MAG #s/R*\n",
    "\n",
    "cmag = []\n",
    "for lumin in [0.26, 1.5, 13, 110, 1090]:\n",
    "    I_yR = I_yR0*lumin\n",
    "    I_zR = I_yR0*lumin\n",
    "    I_wR = I_yR0*lumin\n",
    "    purod = np.zeros_like(I)\n",
    "    for i in range(len(I)):\n",
    "        purod[i] = purod[i-1]+dt/R_tau/(1+delta*I_wR[i])*(R_alpha*I_yR[i]-(1+R_bata*I_zR[i])*purod[i-1])\n",
    "    plt.plot(purod, label=str(lumin))\n",
    "    cmag.append(min(purod))\n",
    "plt.legend(loc='best', prop={'size': 'large', 'family': 'monospace'})"
   ]
  },
  {
   "cell_type": "code",
   "execution_count": 74,
   "metadata": {
    "run_control": {
     "marked": false
    },
    "scrolled": true
   },
   "outputs": [
    {
     "data": {
      "image/png": "[encoded data removed]",
      "text/plain": [
       "<Figure size 432x288 with 1 Axes>"
      ]
     },
     "metadata": {
      "needs_background": "light"
     },
     "output_type": "display_data"
    }
   ],
   "source": [
    "plt.plot([0.26, 1.5, 13, 110, 1090], cmag)\n",
    "plt.xscale('log')"
   ]
  },
  {
   "cell_type": "markdown",
   "metadata": {},
   "source": [
    "# Cone"
   ]
  },
  {
   "cell_type": "code",
   "execution_count": 46,
   "metadata": {},
   "outputs": [],
   "source": [
    "dt = 0.001 #s\n",
    "I = np.zeros(int(6/dt))\n",
    "I[int(2/dt):int(4/dt)]= 1#R/s\n",
    "T = np.arange(len(I))*dt\n",
    "\n",
    "#Cone\n",
    "C_tau_y = 0.043 #s\n",
    "C_tau_z = 0.45 #s\n",
    "gamma = 0.64\n",
    "Ttemp = np.arange(0,int(C_tau_y/dt*15))*dt\n",
    "C_Ky = Ttemp/C_tau_y /C_tau_y *np.exp(-Ttemp/C_tau_y)\n",
    "Ttemp = np.arange(0,int(min(C_tau_z/dt*8,len(I)/2)))*dt\n",
    "C_Kz = gamma*Ttemp/C_tau_y /C_tau_y *np.exp(-Ttemp/C_tau_y)+(1-gamma)*Ttemp/C_tau_z /C_tau_z *np.exp(-Ttemp/C_tau_z)\n",
    "\n",
    "def TemporalKernelInput(I, K, dt):\n",
    "    nK = np.append(np.zeros(len(K)-1),K)\n",
    "    if len(nK) > len(I):\n",
    "        print('input too short')\n",
    "        return np.nan\n",
    "    else:\n",
    "        return np.convolve(I, nK, 'same')*dt\n",
    "\n",
    "I_yC0 = TemporalKernelInput(I, C_Ky, dt)\n",
    "I_zC0 = TemporalKernelInput(I, C_Kz, dt)"
   ]
  },
  {
   "cell_type": "code",
   "execution_count": 53,
   "metadata": {},
   "outputs": [
    {
     "data": {
      "text/plain": [
       "<matplotlib.legend.Legend at 0x1c4eec23d08>"
      ]
     },
     "execution_count": 53,
     "metadata": {},
     "output_type": "execute_result"
    },
    {
     "data": {
      "image/png": "[encoded data removed]",
      "text/plain": [
       "<Figure size 432x288 with 1 Axes>"
      ]
     },
     "metadata": {
      "needs_background": "light"
     },
     "output_type": "display_data"
    }
   ],
   "source": [
    "MAG = 2000\n",
    "C_tau = 0.024#s\n",
    "C_alpha = -8.8e-6*MAG #s/R*\n",
    "C_bata = 1.2e-5*MAG #s/R*\n",
    "\n",
    "\n",
    "for lumin in [0.26, 1.5, 13, 110, 1090]:\n",
    "    I_yC = I_yC0*lumin\n",
    "    I_zC = I_zC0*lumin\n",
    "    cone = np.zeros_like(I)\n",
    "    for i in range(len(I)):\n",
    "        cone[i] = cone[i-1]+dt/C_tau*(C_alpha*I_yC[i]-(1+C_bata*I_zC[i])*cone[i-1])\n",
    "    plt.plot(cone, label=str(lumin))\n",
    "plt.legend(loc='best', prop={'size': 'large', 'family': 'monospace'})"
   ]
  },
  {
   "cell_type": "code",
   "execution_count": null,
   "metadata": {},
   "outputs": [],
   "source": []
  }
 ],
 "metadata": {
  "kernelspec": {
   "display_name": "Python 3",
   "language": "python",
   "name": "python3"
  },
  "language_info": {
   "codemirror_mode": {
    "name": "ipython",
    "version": 3
   },
   "file_extension": ".py",
   "mimetype": "text/x-python",
   "name": "python",
   "nbconvert_exporter": "python",
   "pygments_lexer": "ipython3",
   "version": "3.7.6"
  },
  "toc": {
   "base_numbering": 1,
   "nav_menu": {},
   "number_sections": true,
   "sideBar": true,
   "skip_h1_title": false,
   "title_cell": "Table of Contents",
   "title_sidebar": "Contents",
   "toc_cell": false,
   "toc_position": {},
   "toc_section_display": true,
   "toc_window_display": true
  },
  "varInspector": {
   "cols": {
    "lenName": 16,
    "lenType": 16,
    "lenVar": 40
   },
   "kernels_config": {
    "python": {
     "delete_cmd_postfix": "",
     "delete_cmd_prefix": "del ",
     "library": "var_list.py",
     "varRefreshCmd": "print(var_dic_list())"
    },
    "r": {
     "delete_cmd_postfix": ") ",
     "delete_cmd_prefix": "rm(",
     "library": "var_list.r",
     "varRefreshCmd": "cat(var_dic_list()) "
    }
   },
   "position": {
    "height": "407px",
    "left": "1550px",
    "right": "20px",
    "top": "120px",
    "width": "350px"
   },
   "types_to_exclude": [
    "module",
    "function",
    "builtin_function_or_method",
    "instance",
    "_Feature"
   ],
   "window_display": true
  }
 },
 "nbformat": 4,
 "nbformat_minor": 4
}
