{
 "cells": [
  {
   "cell_type": "markdown",
   "source": [
    "# Functions"
   ],
   "metadata": {}
  },
  {
   "cell_type": "code",
   "execution_count": 1,
   "source": [
    "import numpy as np\r\n",
    "import matplotlib.pyplot as plt\r\n",
    "from mpl_toolkits import mplot3d\r\n",
    "from matplotlib.ticker import MaxNLocator\r\n",
    "import math\r\n",
    "from scipy import signal\r\n",
    "from scipy.fftpack import fft\r\n",
    "from scipy import ndimage\r\n",
    "from scipy.io import loadmat\r\n",
    "import os\r\n",
    "%matplotlib inline"
   ],
   "outputs": [],
   "metadata": {
    "run_control": {
     "marked": true
    }
   }
  },
  {
   "cell_type": "code",
   "execution_count": 2,
   "source": [
    "import import_ipynb\r\n",
    "try:\r\n",
    "    os.chdir('C:\\\\Users\\\\hydro_leo\\\\Documents\\\\GitHub\\\\python-code\\\\Modules')\r\n",
    "except:\r\n",
    "    os.chdir('C:\\\\Users\\\\llinc\\\\GitHub\\\\python-code\\\\Modules')\r\n",
    "from time_shifted_PID import Histo3D2Dict\r\n",
    "from time_shifted_PID import PIfunc\r\n",
    "from time_shifted_PID import EqualState"
   ],
   "outputs": [
    {
     "output_type": "stream",
     "name": "stdout",
     "text": [
      "importing Jupyter notebook from time_shifted_PID.ipynb\n",
      "importing Jupyter notebook from J_broja_PID.ipynb\n"
     ]
    }
   ],
   "metadata": {}
  },
  {
   "cell_type": "code",
   "execution_count": 3,
   "source": [
    "def ensure_dir(file_path):\r\n",
    "    if not os.path.exists(file_path):\r\n",
    "        os.makedirs(file_path)"
   ],
   "outputs": [],
   "metadata": {}
  },
  {
   "cell_type": "markdown",
   "source": [
    "# Main"
   ],
   "metadata": {}
  },
  {
   "cell_type": "code",
   "execution_count": 4,
   "source": [
    "figmap = [[np.nan, 7,15,23,31,39,47,np.nan],\r\n",
    "          [     1, 8,16,24,32,40,48,    55],\r\n",
    "          [     2, 9,17,25,33,41,49,    56],\r\n",
    "          [     3,10,18,26,34,42,50,    57],\r\n",
    "          [     4,11,19,27,35,43,51,    58],\r\n",
    "          [     5,12,20,28,36,44,52,    59],\r\n",
    "          [     6,13,21,29,37,45,53,    60],\r\n",
    "          [np.nan,14,22,30,38,46,54,np.nan]]\r\n",
    "figmap = np.array(figmap)"
   ],
   "outputs": [],
   "metadata": {
    "run_control": {
     "marked": false
    }
   }
  },
  {
   "cell_type": "code",
   "execution_count": 5,
   "source": [
    "exp_folder = 'D:\\\\GoogleDrive\\\\retina\\\\Chou\\'s data\\\\20210720\\\\'\r\n",
    "ensure_dir(exp_folder+'MI')\r\n",
    "ensure_dir(exp_folder+'MI\\\\Fig')"
   ],
   "outputs": [],
   "metadata": {}
  },
  {
   "cell_type": "code",
   "execution_count": 6,
   "source": [
    "for filename in os.listdir(exp_folder+'merge\\\\'):\r\n",
    "    if filename.find('HMM')==-1 and filename.find('OU')==-1:\r\n",
    "        continue\r\n",
    "#     elif filename.find('grating')==-1 and filename.find('GP')==-1:\r\n",
    "#         continue\r\n",
    "    print(filename)\r\n",
    "    annots = loadmat(exp_folder+'merge\\\\'+filename)\r\n",
    "#     if np.squeeze(annots['Video']['stimulation_type']) != 'Bar':\r\n",
    "#         continue\r\n",
    "#     elif np.squeeze(annots['Video']['series_type']) != 'HMM' and np.squeeze(annots['Video']['series_type']) != 'OUsmooth' and np.squeeze(annots['Video']['series_type']) != 'OU':\r\n",
    "#         continue\r\n",
    "#     if np.squeeze(annots['type']) != 'HMM' and np.squeeze(annots['type']) != 'OUsmooth' and np.squeeze(annots['type']) != 'OU':\r\n",
    "#         continue\r\n",
    "    \r\n",
    "    x = np.squeeze(annots['bin_pos'])\r\n",
    "    x = x.astype(float)\r\n",
    "    x = (x-np.mean(x))/np.std(x)\r\n",
    "    dt = 1./60.\r\n",
    "    T=np.arange(len(x))*dt+dt\r\n",
    "    v = ndimage.gaussian_filter1d(x.copy(), sigma=5, order=1, mode='reflect')/dt\r\n",
    "\r\n",
    "    xstate, _= EqualState(x, 6)\r\n",
    "    vstate, _= EqualState(v, 6)\r\n",
    "    PIfig, PIax = plt.subplots(nrows=8, ncols=8)\r\n",
    "    MIfig, MIax = plt.subplots(nrows=8, ncols=8)\r\n",
    "    Information_cell = [0]*60\r\n",
    "    for channelnumber in np.arange(1,61):\r\n",
    "        rstate, _ = np.histogram(annots['reconstruct_spikes'][0][channelnumber-1], np.append(0,T))\r\n",
    "        if sum(rstate)/len(rstate)/dt <= 0.3 : continue\r\n",
    "\r\n",
    "        window = [-1,1] # second\r\n",
    "        timeshift, Information = PIfunc(rstate, xstate, vstate, dt, window)\r\n",
    "        Information_cell[channelnumber-1] = Information.copy()\r\n",
    "        if max(Information[('Beer','UIx')]) < 0.05: continue\r\n",
    "        PIax[np.where(figmap == channelnumber)][0].plot(timeshift,Information[('Beer','UIx')],'r-')\r\n",
    "        PIax[np.where(figmap == channelnumber)][0].plot(timeshift,Information[('Beer','UIv')],'b-')\r\n",
    "        PIax[np.where(figmap == channelnumber)][0].plot(timeshift,Information[('Beer','Syn')],'k-')\r\n",
    "        PIax[np.where(figmap == channelnumber)][0].plot(timeshift,Information[('Beer','Red')],'g-')\r\n",
    "        PIax[np.where(figmap == channelnumber)][0].set_title(str(channelnumber))\r\n",
    "#         PIax[np.where(figmap == channelnumber)][0].set_xlable(r'$\\delta t$ (s)')\r\n",
    "#         PIax[np.where(figmap == channelnumber)][0].set_ylable(r'Information (bit/s)')\r\n",
    "        PIax[np.where(figmap == channelnumber)][0].grid()\r\n",
    "\r\n",
    "        MIax[np.where(figmap == channelnumber)][0].plot(timeshift,Information[('Beer','UIx')]+Information[('Beer','Red')],'r-')\r\n",
    "        MIax[np.where(figmap == channelnumber)][0].plot(timeshift,Information[('Beer','UIv')]+Information[('Beer','Red')],'b-')\r\n",
    "        MIax[np.where(figmap == channelnumber)][0].plot(timeshift,Information[('Beer','UIv')]+Information[('Beer','UIx')]\r\n",
    "                                                        +2*Information[('Beer','Red')],'m-')\r\n",
    "        MIax[np.where(figmap == channelnumber)][0].plot(timeshift,Information[('Beer','UIv')]+Information[('Beer','UIx')]\r\n",
    "                                                        +Information[('Beer','Red')]+Information[('Beer','Syn')],'k-')\r\n",
    "        MIax[np.where(figmap == channelnumber)][0].set_title(str(channelnumber))\r\n",
    "#         MIax[np.where(figmap == channelnumber)][0].set_xlable(r'$\\delta t$ (s)')\r\n",
    "#         MIax[np.where(figmap == channelnumber)][0].set_ylable(r'Information (bit/s)')\r\n",
    "        MIax[np.where(figmap == channelnumber)][0].grid()\r\n",
    "    \r\n",
    "    \r\n",
    "    filename = filename[:-4]\r\n",
    "    PIfig.set_size_inches(60, 30)\r\n",
    "    PIfig.savefig(exp_folder+'MI\\\\Fig\\\\PI_'+filename+'.tif', bbox_inches = 'tight',pad_inches = 0.3)\r\n",
    "    plt.close(PIfig)\r\n",
    "    MIfig.set_size_inches(60, 30)\r\n",
    "    MIfig.savefig(exp_folder+'MI\\\\Fig\\\\MI_'+filename+'.tif', bbox_inches = 'tight',pad_inches = 0.3)\r\n",
    "    plt.close(MIfig)\r\n",
    "    np.savez(exp_folder+'MI\\\\MI_'+filename+'.npz', Information_cell = Information_cell, timeshift = timeshift)"
   ],
   "outputs": [
    {
     "output_type": "stream",
     "name": "stdout",
     "text": [
      "merge_0102_OUsmooth_Bright_UR_DL_G4.5_5min_Q100_6.5mW_1Hz.mat\n",
      "merge_0224_HMM_RL_G4.5_5min_Q100_6.5mW.mat\n",
      "merge_0224_HMM_UD_G4.5_5min_Q100_6.5mW.mat\n",
      "merge_0224_HMM_UL_DR_G4.5_5min_Q100_6.5mW.mat\n",
      "merge_0224_HMM_UR_DL_G4.5_5min_Q100_6.5mW.mat\n",
      "merge_0505_GP_s=20_OUsmooth_1Hz_UR_DL_6.5v0mW.mat\n",
      "merge_0505_GP_s=40_OUsmooth_1Hz_UR_DL_6.5v0mW.mat\n",
      "merge_0505_GP_s=6.8_OUsmooth_1Hz_UR_DL_6.5v0mW.mat\n",
      "merge_0505_GP_s=60_OUsmooth_1Hz_UR_DL_6.5v0mW.mat\n",
      "merge_0705_LPOU_G4.5_1Hz_SW_hw8_short_UR_DL_6.5v0.025mW.mat\n",
      "merge_0705_LPOU_G4.5_1Hz_SW_hw8_short_UR_DL_6.5v0.04mW.mat\n",
      "merge_0727_OUsmooth_Bright_UR_DL_G4.5_5min_Q100_6.5mW_0.5Hz.mat\n",
      "merge_0727_OUsmooth_Bright_UR_DL_G4.5_5min_Q100_6.5mW_1Hz.mat\n",
      "merge_0727_OUsmooth_Bright_UR_DL_G4.5_5min_Q100_6.5mW_2Hz.mat\n",
      "merge_0727_OUsmooth_Bright_UR_DL_G4.5_5min_Q100_6.5mW_4Hz.mat\n",
      "merge_0727_OUsmooth_UR_DL_G4.5_5min_Q100_0.08mW_8025_1Hz.mat\n",
      "merge_0727_OUsmooth_UR_DL_G4.5_5min_Q100_0.1mW_6400_1Hz.mat\n",
      "merge_0727_OUsmooth_UR_DL_G4.5_5min_Q100_0.3mW_2067_1Hz.mat\n",
      "merge_0727_OUsmooth_UR_DL_G4.5_5min_Q100_0.5mW_1200_1Hz.mat\n",
      "merge_0727_OUsmooth_UR_DL_G4.5_5min_Q100_1mW_550_1Hz.mat\n",
      "merge_0727_OUsmooth_UR_DL_G4.5_5min_Q100_2mW_225_1Hz.mat\n",
      "merge_2222_OUsmooth_Bright_UR_DL_G4.5_5min_Q100_6.5mW_1Hz.mat\n",
      "merge_5555_OUsmooth_Bright_UR_DL_G4.5_5min_Q100_6.5mW_1Hz.mat\n"
     ]
    }
   ],
   "metadata": {
    "scrolled": false
   }
  },
  {
   "cell_type": "code",
   "execution_count": null,
   "source": [],
   "outputs": [],
   "metadata": {}
  }
 ],
 "metadata": {
  "kernelspec": {
   "name": "python3",
   "display_name": "Python 3.7.11 64-bit ('base': conda)"
  },
  "language_info": {
   "codemirror_mode": {
    "name": "ipython",
    "version": 3
   },
   "file_extension": ".py",
   "mimetype": "text/x-python",
   "name": "python",
   "nbconvert_exporter": "python",
   "pygments_lexer": "ipython3",
   "version": "3.7.11"
  },
  "toc": {
   "base_numbering": 1,
   "nav_menu": {
    "height": "187px",
    "width": "383px"
   },
   "number_sections": true,
   "sideBar": true,
   "skip_h1_title": false,
   "title_cell": "Table of Contents",
   "title_sidebar": "Contents",
   "toc_cell": false,
   "toc_position": {
    "height": "789px",
    "left": "557px",
    "top": "241px",
    "width": "165px"
   },
   "toc_section_display": true,
   "toc_window_display": true
  },
  "varInspector": {
   "cols": {
    "lenName": 16,
    "lenType": 16,
    "lenVar": 40
   },
   "kernels_config": {
    "python": {
     "delete_cmd_postfix": "",
     "delete_cmd_prefix": "del ",
     "library": "var_list.py",
     "varRefreshCmd": "print(var_dic_list())"
    },
    "r": {
     "delete_cmd_postfix": ") ",
     "delete_cmd_prefix": "rm(",
     "library": "var_list.r",
     "varRefreshCmd": "cat(var_dic_list()) "
    }
   },
   "position": {
    "height": "392px",
    "left": "1514px",
    "right": "20px",
    "top": "115px",
    "width": "350px"
   },
   "types_to_exclude": [
    "module",
    "function",
    "builtin_function_or_method",
    "instance",
    "_Feature"
   ],
   "window_display": true
  },
  "interpreter": {
   "hash": "d0b1fa5f8190b2a41a5ff5a3ea72cebc53c78344021de4da08a7d779ac26dba6"
  }
 },
 "nbformat": 4,
 "nbformat_minor": 4
}