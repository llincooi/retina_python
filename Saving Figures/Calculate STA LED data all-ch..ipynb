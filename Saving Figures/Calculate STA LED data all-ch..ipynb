{
 "cells": [
  {
   "cell_type": "markdown",
   "source": [
    "# Functions"
   ],
   "metadata": {}
  },
  {
   "cell_type": "code",
   "execution_count": 11,
   "source": [
    "import numpy as np\r\n",
    "# import matplotlib.pyplot as plt\r\n",
    "from scipy.io import loadmat\r\n",
    "import os\r\n",
    "%matplotlib inline"
   ],
   "outputs": [],
   "metadata": {
    "run_control": {
     "marked": true
    }
   }
  },
  {
   "cell_type": "code",
   "execution_count": 12,
   "source": [
    "def ensure_dir(file_path):\r\n",
    "    if not os.path.exists(file_path):\r\n",
    "        os.makedirs(file_path)"
   ],
   "outputs": [],
   "metadata": {}
  },
  {
   "cell_type": "markdown",
   "source": [
    "# Main"
   ],
   "metadata": {}
  },
  {
   "cell_type": "code",
   "execution_count": 13,
   "source": [
    "figmap = [[np.nan, 7,15,23,31,39,47,np.nan],\r\n",
    "          [     1, 8,16,24,32,40,48,    55],\r\n",
    "          [     2, 9,17,25,33,41,49,    56],\r\n",
    "          [     3,10,18,26,34,42,50,    57],\r\n",
    "          [     4,11,19,27,35,43,51,    58],\r\n",
    "          [     5,12,20,28,36,44,52,    59],\r\n",
    "          [     6,13,21,29,37,45,53,    60],\r\n",
    "          [np.nan,14,22,30,38,46,54,np.nan]]\r\n",
    "figmap = np.array(figmap)"
   ],
   "outputs": [],
   "metadata": {
    "run_control": {
     "marked": false
    }
   }
  },
  {
   "cell_type": "code",
   "execution_count": 14,
   "source": [
    "# exp_folder = 'D:\\\\GoogleDrive\\\\retina\\\\Chou\\'s data\\\\20210720\\\\SplitData\\\\'\r\n",
    "exp_folder = 'D:\\\\GoogleDrive\\\\retina\\\\Troy\\'s data\\\\20211008\\\\SplitData\\\\'\r\n",
    "ensure_dir(exp_folder+'STA')\r\n",
    "# ensure_dir(exp_folder+'MI\\\\Fig')"
   ],
   "outputs": [],
   "metadata": {}
  },
  {
   "cell_type": "code",
   "execution_count": 15,
   "source": [
    "import warnings\r\n",
    "warnings.simplefilter('ignore')\r\n",
    "\r\n",
    "# for Fc in [2,4,7,10]:\r\n",
    "#     for unit in [1,2]:\r\n",
    "for filename in os.listdir(exp_folder):\r\n",
    "    if filename.find('mat')==-1 and filename.find('mat')==-1:\r\n",
    "        continue\r\n",
    "    print(filename)\r\n",
    "    annots = loadmat(exp_folder+filename)\r\n",
    "    dt = 0.01\r\n",
    "    sampling_rate = 20000\r\n",
    "    TimeStamps =np.round(np.squeeze(annots['TimeStamps']))\r\n",
    "    TimeStamps = TimeStamps.astype(int)\r\n",
    "    x = annots['a_data'][0, TimeStamps[0]*sampling_rate:TimeStamps[1]*sampling_rate+1]\r\n",
    "    x = x[::int(sampling_rate*dt)]\r\n",
    "    x = x.astype(float)\r\n",
    "    x = (x-np.mean(x))/np.std(x)\r\n",
    "    T=np.arange(len(x))*dt\r\n",
    "    XcT = T-T[int(len(T)/2)]\r\n",
    "\r\n",
    "    window = [-1,1] # second\r\n",
    "    timeshift = np.arange(window[0], window[1]+dt, dt)\r\n",
    "    STA_cell = [0]*60\r\n",
    "    for channelnumber in np.arange(1,61):\r\n",
    "        rstate, _ = np.histogram(annots['Spikes'][0][channelnumber-1]-TimeStamps[0], np.append(0,T))\r\n",
    "        if sum(rstate)/len(rstate)/dt <= 0.3 : continue\r\n",
    "\r\n",
    "        nXcorr = np.correlate(x, rstate, 'same')/np.correlate(np.ones_like(x), rstate, 'same')\r\n",
    "        STA_cell[channelnumber-1] = nXcorr[np.arange(np.where(XcT == window[0])[0],np.where(XcT ==  window[1])[0]+1)]\r\n",
    "        # timeshift, Information = MIfunc(rstate, xstate, dt, window, perSpike = True)\r\n",
    "        # Information_cell[channelnumber-1] = Information.copy()\r\n",
    "\r\n",
    "    np.savez(exp_folder+'STA\\\\STA_'+filename[:-4]+'.npz', STA_cell = STA_cell, timeshift = timeshift)"
   ],
   "outputs": [
    {
     "output_type": "stream",
     "name": "stdout",
     "text": [
      "OU_tau=500ms_cutoff=0_mean10_amp2.mat\n",
      "OU_tau=500ms_cutoff=1_mean=10_C=0.05.mat\n",
      "OU_tau=500ms_cutoff=1_mean=10_C=0.1.mat\n",
      "OU_tau=500ms_cutoff=1_mean=10_C=0.2.mat\n",
      "OU_tau=500ms_cutoff=1_mean=10_C=0.3.mat\n",
      "OU_tau=500ms_cutoff=1_mean=13_C=0.05.mat\n",
      "OU_tau=500ms_cutoff=1_mean=13_C=0.1.mat\n",
      "OU_tau=500ms_cutoff=1_mean=13_C=0.2.mat\n",
      "OU_tau=500ms_cutoff=1_mean=13_C=0.3.mat\n",
      "OU_tau=500ms_cutoff=1_mean=1_C=0.05.mat\n",
      "OU_tau=500ms_cutoff=1_mean=1_C=0.1.mat\n",
      "OU_tau=500ms_cutoff=1_mean=1_C=0.2.mat\n",
      "OU_tau=500ms_cutoff=1_mean=1_C=0.3.mat\n",
      "OU_tau=500ms_cutoff=1_mean=4_C=0.05.mat\n",
      "OU_tau=500ms_cutoff=1_mean=4_C=0.1.mat\n",
      "OU_tau=500ms_cutoff=1_mean=4_C=0.2.mat\n",
      "OU_tau=500ms_cutoff=1_mean=4_C=0.3.mat\n",
      "OU_tau=500ms_cutoff=1_mean=7_C=0.05.mat\n",
      "OU_tau=500ms_cutoff=1_mean=7_C=0.1.mat\n",
      "OU_tau=500ms_cutoff=1_mean=7_C=0.2.mat\n",
      "OU_tau=500ms_cutoff=1_mean=7_C=0.3.mat\n",
      "WhiteNoise_mean=10_C=0.05.mat\n",
      "WhiteNoise_mean=10_C=0.1.mat\n",
      "WhiteNoise_mean=10_C=0.2.mat\n",
      "WhiteNoise_mean=10_C=0.3.mat\n",
      "WhiteNoise_mean=1_C=0.05.mat\n",
      "WhiteNoise_mean=1_C=0.1.mat\n",
      "WhiteNoise_mean=1_C=0.2.mat\n",
      "WhiteNoise_mean=1_C=0.3.mat\n",
      "WhiteNoise_mean=4_C=0.05.mat\n",
      "WhiteNoise_mean=4_C=0.1.mat\n",
      "WhiteNoise_mean=4_C=0.2.mat\n",
      "WhiteNoise_mean=4_C=0.3.mat\n",
      "WhiteNoise_mean=7_C=0.05.mat\n",
      "WhiteNoise_mean=7_C=0.1.mat\n",
      "WhiteNoise_mean=7_C=0.2.mat\n",
      "WhiteNoise_mean=7_C=0.3.mat\n"
     ]
    }
   ],
   "metadata": {
    "run_control": {
     "marked": false
    }
   }
  },
  {
   "cell_type": "code",
   "execution_count": 16,
   "source": [
    "nXcorr"
   ],
   "outputs": [
    {
     "output_type": "execute_result",
     "data": {
      "text/plain": [
       "array([ 0.08527521,  0.05202055, -0.01976085, ...,  0.11276213,\n",
       "        0.10263102,  0.17088268])"
      ]
     },
     "metadata": {},
     "execution_count": 16
    }
   ],
   "metadata": {}
  },
  {
   "cell_type": "markdown",
   "source": [
    "# 0513\r\n",
    "diode_OU_tau=500ms_cutoff=0_mean10_amp2_07-Jul-2021_0.mat:  10-2 <br>\r\n",
    "diode_OU_tau=500ms_cutoff=2_coeff=0.2_07-Jul-2021_0.mat:    2-0.4 <br>\r\n",
    "diode_OU_tau=500ms_cutoff=2_coeff=0.6_07-Jul-2021_0.mat:    6-1.2 <br>\r\n",
    "diode_OU_tau=500ms_cutoff=2_coeff=1.5_07-Jul-2021_0.mat:    15-3 <br>\r\n",
    "diode_OU_tau=500ms_cutoff=2_mean10_amp2_07-Jul-2021_0.mat:  10-2 <br>\r\n",
    "diode_OU_tau=500ms_cutoff=2_meaninten=10_07-Jul-2021_0.mat: 10-1.3677 <br>\r\n",
    "diode_OU_tau=500ms_cutoff=2_meaninten=15_07-Jul-2021_0.mat: 15-1.3677 <br>\r\n",
    "diode_OU_tau=500ms_cutoff=2_meaninten=5_07-Jul-2021_0.mat:  5-1.3677 <br>\r\n",
    "\r\n",
    "# 0716\r\n"
   ],
   "metadata": {}
  }
 ],
 "metadata": {
  "kernelspec": {
   "name": "python3",
   "display_name": "Python 3.7.11 64-bit ('base': conda)"
  },
  "language_info": {
   "codemirror_mode": {
    "name": "ipython",
    "version": 3
   },
   "file_extension": ".py",
   "mimetype": "text/x-python",
   "name": "python",
   "nbconvert_exporter": "python",
   "pygments_lexer": "ipython3",
   "version": "3.7.11"
  },
  "toc": {
   "base_numbering": 1,
   "nav_menu": {
    "height": "187px",
    "width": "383px"
   },
   "number_sections": true,
   "sideBar": true,
   "skip_h1_title": false,
   "title_cell": "Table of Contents",
   "title_sidebar": "Contents",
   "toc_cell": false,
   "toc_position": {
    "height": "789px",
    "left": "557px",
    "top": "241px",
    "width": "165px"
   },
   "toc_section_display": true,
   "toc_window_display": true
  },
  "varInspector": {
   "cols": {
    "lenName": 16,
    "lenType": 16,
    "lenVar": 40
   },
   "kernels_config": {
    "python": {
     "delete_cmd_postfix": "",
     "delete_cmd_prefix": "del ",
     "library": "var_list.py",
     "varRefreshCmd": "print(var_dic_list())"
    },
    "r": {
     "delete_cmd_postfix": ") ",
     "delete_cmd_prefix": "rm(",
     "library": "var_list.r",
     "varRefreshCmd": "cat(var_dic_list()) "
    }
   },
   "position": {
    "height": "273px",
    "left": "1523px",
    "right": "20px",
    "top": "112px",
    "width": "350px"
   },
   "types_to_exclude": [
    "module",
    "function",
    "builtin_function_or_method",
    "instance",
    "_Feature"
   ],
   "window_display": false
  },
  "interpreter": {
   "hash": "d0b1fa5f8190b2a41a5ff5a3ea72cebc53c78344021de4da08a7d779ac26dba6"
  }
 },
 "nbformat": 4,
 "nbformat_minor": 4
}