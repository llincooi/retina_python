{
 "cells": [
  {
   "cell_type": "markdown",
   "metadata": {},
   "source": [
    "# Functions"
   ]
  },
  {
   "cell_type": "code",
   "execution_count": 1,
   "metadata": {
    "run_control": {
     "marked": true
    }
   },
   "outputs": [],
   "source": [
    "import numpy as np\n",
    "import matplotlib.pyplot as plt\n",
    "from scipy import ndimage\n",
    "from scipy.io import loadmat\n",
    "import import_ipynb\n",
    "import os\n",
    "%matplotlib inline"
   ]
  },
  {
   "cell_type": "code",
   "execution_count": 2,
   "metadata": {},
   "outputs": [
    {
     "name": "stdout",
     "output_type": "stream",
     "text": [
      "importing Jupyter notebook from time_shifted_PID.ipynb\n"
     ]
    }
   ],
   "source": [
    "try:\n",
    "    os.chdir('C:\\\\Users\\\\hydro_leo\\\\Documents\\\\GitHub\\\\python-code\\\\Modules')\n",
    "except:\n",
    "    os.chdir('C:\\\\Users\\\\llinc\\\\GitHub\\\\python-code\\\\Modules')\n",
    "from time_shifted_PID import MIfunc\n",
    "from time_shifted_PID import EqualState"
   ]
  },
  {
   "cell_type": "code",
   "execution_count": 3,
   "metadata": {},
   "outputs": [],
   "source": [
    "def ensure_dir(file_path):\n",
    "    if not os.path.exists(file_path):\n",
    "        os.makedirs(file_path)"
   ]
  },
  {
   "cell_type": "markdown",
   "metadata": {},
   "source": [
    "# Main"
   ]
  },
  {
   "cell_type": "code",
   "execution_count": 4,
   "metadata": {
    "run_control": {
     "marked": false
    }
   },
   "outputs": [],
   "source": [
    "figmap = [[np.nan, 7,15,23,31,39,47,np.nan],\n",
    "          [     1, 8,16,24,32,40,48,    55],\n",
    "          [     2, 9,17,25,33,41,49,    56],\n",
    "          [     3,10,18,26,34,42,50,    57],\n",
    "          [     4,11,19,27,35,43,51,    58],\n",
    "          [     5,12,20,28,36,44,52,    59],\n",
    "          [     6,13,21,29,37,45,53,    60],\n",
    "          [np.nan,14,22,30,38,46,54,np.nan]]\n",
    "figmap = np.array(figmap)"
   ]
  },
  {
   "cell_type": "code",
   "execution_count": 5,
   "metadata": {},
   "outputs": [],
   "source": [
    "# exp_folder = 'D:\\\\GoogleDrive\\\\retina\\\\Chou\\'s data\\\\20210720\\\\SplitData\\\\'\n",
    "exp_folder = 'D:\\\\GoogleDrive\\\\retina\\\\Troy\\'s data\\\\20211029\\\\SplitData\\\\'\n",
    "# exp_folder = 'D:\\\\GoogleDrive\\\\retina\\\\Exps\\\\2021\\\\1028\\\\SplitData\\\\'\n",
    "ensure_dir(exp_folder+'MI')\n",
    "# ensure_dir(exp_folder+'MI\\\\Fig')"
   ]
  },
  {
   "cell_type": "code",
   "execution_count": 6,
   "metadata": {
    "run_control": {
     "marked": false
    }
   },
   "outputs": [
    {
     "name": "stdout",
     "output_type": "stream",
     "text": [
      "diode_OU_tau=500ms_cutoff=0_mean=10_amp=2_29-Oct-2021_0.mat\n",
      "diode_OU_tau=500ms_cutoff=1_mean=10_C=0.05_30-Oct-2021_0.mat\n",
      "diode_OU_tau=500ms_cutoff=1_mean=10_C=0.1_30-Oct-2021_0.mat\n",
      "diode_OU_tau=500ms_cutoff=1_mean=10_C=0.2_30-Oct-2021_0.mat\n",
      "diode_OU_tau=500ms_cutoff=1_mean=10_C=0.3_30-Oct-2021_0.mat\n",
      "diode_OU_tau=500ms_cutoff=1_mean=13_C=0.05_30-Oct-2021_0.mat\n",
      "diode_OU_tau=500ms_cutoff=1_mean=13_C=0.1_30-Oct-2021_0.mat\n",
      "diode_OU_tau=500ms_cutoff=1_mean=13_C=0.2_30-Oct-2021_0.mat\n",
      "diode_OU_tau=500ms_cutoff=1_mean=13_C=0.3_30-Oct-2021_0.mat\n",
      "diode_OU_tau=500ms_cutoff=1_mean=1_C=0.05_29-Oct-2021_0.mat\n",
      "diode_OU_tau=500ms_cutoff=1_mean=1_C=0.1_29-Oct-2021_0.mat\n",
      "diode_OU_tau=500ms_cutoff=1_mean=1_C=0.2_29-Oct-2021_0.mat\n",
      "diode_OU_tau=500ms_cutoff=1_mean=1_C=0.3_29-Oct-2021_0.mat\n",
      "diode_OU_tau=500ms_cutoff=1_mean=4_C=0.05_29-Oct-2021_0.mat\n",
      "diode_OU_tau=500ms_cutoff=1_mean=4_C=0.1_29-Oct-2021_0.mat\n",
      "diode_OU_tau=500ms_cutoff=1_mean=4_C=0.2_29-Oct-2021_0.mat\n",
      "diode_OU_tau=500ms_cutoff=1_mean=4_C=0.3_29-Oct-2021_0.mat\n",
      "diode_OU_tau=500ms_cutoff=1_mean=7_C=0.05_30-Oct-2021_0.mat\n",
      "diode_OU_tau=500ms_cutoff=1_mean=7_C=0.1_29-Oct-2021_0.mat\n",
      "diode_OU_tau=500ms_cutoff=1_mean=7_C=0.2_30-Oct-2021_0.mat\n",
      "diode_OU_tau=500ms_cutoff=1_mean=7_C=0.3_30-Oct-2021_0.mat\n"
     ]
    }
   ],
   "source": [
    "import warnings\n",
    "warnings.simplefilter('ignore')\n",
    "\n",
    "# for Fc in [2,4,7,10]:\n",
    "#     for unit in [1,2]:\n",
    "for filename in os.listdir(exp_folder):\n",
    "    if filename.find('HMM')==-1 and filename.find('OU')==-1:\n",
    "        continue\n",
    "    print(filename)\n",
    "    annots = loadmat(exp_folder+filename)\n",
    "    dt = 0.01\n",
    "    sampling_rate = 20000\n",
    "    TimeStamps = np.squeeze(annots['TimeStamps'])\n",
    "    x = annots['a_data'][0, int(TimeStamps[0]*sampling_rate):int(TimeStamps[1]*sampling_rate)+1]\n",
    "    x = x[::int(sampling_rate*dt)]\n",
    "    x = x.astype(float)\n",
    "    v = ndimage.gaussian_filter1d(x.copy(), sigma=5, order=1, mode='reflect')/dt\n",
    "    T=np.arange(len(x))*dt\n",
    "\n",
    "    xstate, _= EqualState(x, 6)\n",
    "    Information_cell = [0]*60\n",
    "    for channelnumber in np.arange(1,61):\n",
    "        rstate, _ = np.histogram(annots['Spikes'][0][channelnumber-1]-TimeStamps[0], np.append(0,T))\n",
    "        if sum(rstate)/len(rstate)/dt <= 0.3 : continue\n",
    "        window = [-1,1] # second\n",
    "        timeshift, Information = MIfunc(rstate, xstate, dt, window, perSpike = True)\n",
    "        Information_cell[channelnumber-1] = Information.copy()\n",
    "\n",
    "    np.savez(exp_folder+'MI\\\\MIperSpike_'+filename[:-17]+filename[-5]+'.npz', Information_cell = Information_cell, timeshift = timeshift)"
   ]
  },
  {
   "cell_type": "markdown",
   "metadata": {},
   "source": [
    "# 0513\n",
    "diode_OU_tau=500ms_cutoff=0_mean10_amp2_07-Jul-2021_0.mat:  10-2 <br>\n",
    "diode_OU_tau=500ms_cutoff=2_coeff=0.2_07-Jul-2021_0.mat:    2-0.4 <br>\n",
    "diode_OU_tau=500ms_cutoff=2_coeff=0.6_07-Jul-2021_0.mat:    6-1.2 <br>\n",
    "diode_OU_tau=500ms_cutoff=2_coeff=1.5_07-Jul-2021_0.mat:    15-3 <br>\n",
    "diode_OU_tau=500ms_cutoff=2_mean10_amp2_07-Jul-2021_0.mat:  10-2 <br>\n",
    "diode_OU_tau=500ms_cutoff=2_meaninten=10_07-Jul-2021_0.mat: 10-1.3677 <br>\n",
    "diode_OU_tau=500ms_cutoff=2_meaninten=15_07-Jul-2021_0.mat: 15-1.3677 <br>\n",
    "diode_OU_tau=500ms_cutoff=2_meaninten=5_07-Jul-2021_0.mat:  5-1.3677 <br>\n",
    "\n",
    "# 0716\n"
   ]
  }
 ],
 "metadata": {
  "interpreter": {
   "hash": "d0b1fa5f8190b2a41a5ff5a3ea72cebc53c78344021de4da08a7d779ac26dba6"
  },
  "kernelspec": {
   "display_name": "Python 3.7.11 64-bit ('base': conda)",
   "name": "python3"
  },
  "language_info": {
   "codemirror_mode": {
    "name": "ipython",
    "version": 3
   },
   "file_extension": ".py",
   "mimetype": "text/x-python",
   "name": "python",
   "nbconvert_exporter": "python",
   "pygments_lexer": "ipython3",
   "version": "3.7.11"
  },
  "toc": {
   "base_numbering": 1,
   "nav_menu": {
    "height": "187px",
    "width": "383px"
   },
   "number_sections": true,
   "sideBar": true,
   "skip_h1_title": false,
   "title_cell": "Table of Contents",
   "title_sidebar": "Contents",
   "toc_cell": false,
   "toc_position": {
    "height": "789px",
    "left": "557px",
    "top": "241px",
    "width": "165px"
   },
   "toc_section_display": true,
   "toc_window_display": true
  },
  "varInspector": {
   "cols": {
    "lenName": 16,
    "lenType": 16,
    "lenVar": 40
   },
   "kernels_config": {
    "python": {
     "delete_cmd_postfix": "",
     "delete_cmd_prefix": "del ",
     "library": "var_list.py",
     "varRefreshCmd": "print(var_dic_list())"
    },
    "r": {
     "delete_cmd_postfix": ") ",
     "delete_cmd_prefix": "rm(",
     "library": "var_list.r",
     "varRefreshCmd": "cat(var_dic_list()) "
    }
   },
   "position": {
    "height": "273px",
    "left": "1523px",
    "right": "20px",
    "top": "112px",
    "width": "350px"
   },
   "types_to_exclude": [
    "module",
    "function",
    "builtin_function_or_method",
    "instance",
    "_Feature"
   ],
   "window_display": false
  }
 },
 "nbformat": 4,
 "nbformat_minor": 4
}
