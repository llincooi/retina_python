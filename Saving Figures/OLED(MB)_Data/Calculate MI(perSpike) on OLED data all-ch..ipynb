{
 "cells": [
  {
   "cell_type": "markdown",
   "metadata": {},
   "source": [
    "# Functions"
   ]
  },
  {
   "cell_type": "code",
   "execution_count": 7,
   "metadata": {
    "run_control": {
     "marked": true
    }
   },
   "outputs": [],
   "source": [
    "import numpy as np\n",
    "import matplotlib.pyplot as plt\n",
    "from scipy.io import loadmat\n",
    "import os\n",
    "%matplotlib inline"
   ]
  },
  {
   "cell_type": "code",
   "execution_count": 8,
   "metadata": {},
   "outputs": [],
   "source": [
    "import import_ipynb\n",
    "try:\n",
    "    os.chdir('C:\\\\Users\\\\hydro_leo\\\\Documents\\\\GitHub\\\\retina_python\\\\Modules')\n",
    "except:\n",
    "    os.chdir('C:\\\\Users\\\\llinc\\\\GitHub\\\\retina_python\\\\Modules')\n",
    "from time_shifted_PID import MIfunc\n",
    "from time_shifted_PID import EqualState"
   ]
  },
  {
   "cell_type": "code",
   "execution_count": 9,
   "metadata": {},
   "outputs": [],
   "source": [
    "def ensure_dir(file_path):\n",
    "    if not os.path.exists(file_path):\n",
    "        os.makedirs(file_path)"
   ]
  },
  {
   "cell_type": "markdown",
   "metadata": {},
   "source": [
    "# Main"
   ]
  },
  {
   "cell_type": "code",
   "execution_count": 10,
   "metadata": {},
   "outputs": [],
   "source": [
    "exp_folder = 'D:\\\\GoogleDrive\\\\retina\\\\Exps\\\\2021\\\\1208\\\\'\n",
    "exp_folder = 'D:\\\\GoogleDrive\\\\retina\\\\Troy\\'s data\\\\20211209\\\\'\n",
    "ensure_dir(exp_folder+'MI')\n",
    "ensure_dir(exp_folder+'MI\\\\Fig')"
   ]
  },
  {
   "cell_type": "code",
   "execution_count": 11,
   "metadata": {
    "scrolled": false
   },
   "outputs": [
    {
     "name": "stdout",
     "output_type": "stream",
     "text": [
      "merge_1207_LPOU_G4.5_1Hz_SW_hw8_long_RL_6.5v0mW_0.mat\n",
      "merge_1207_LPOU_G4.5_1Hz_SW_hw8_long_UD_6.5v0mW_0.mat\n",
      "merge_1207_LPOU_G4.5_1Hz_SW_hw8_long_UL_DR_6.5v0mW_0.mat\n",
      "merge_1207_LPOU_G4.5_1Hz_SW_hw8_long_UR_DL_13v0.2mW.mat\n",
      "merge_1207_LPOU_G4.5_1Hz_SW_hw8_long_UR_DL_13v2mW.mat\n",
      "merge_1207_LPOU_G4.5_1Hz_SW_hw8_long_UR_DL_13v6.5mW.mat\n",
      "merge_1207_LPOU_G4.5_1Hz_SW_hw8_long_UR_DL_26v0.4mW.mat\n",
      "merge_1207_LPOU_G4.5_1Hz_SW_hw8_long_UR_DL_26v13mW.mat\n",
      "merge_1207_LPOU_G4.5_1Hz_SW_hw8_long_UR_DL_26v4mW.mat\n",
      "merge_1207_LPOU_G4.5_1Hz_SW_hw8_long_UR_DL_3.25v0.05mW.mat\n",
      "merge_1207_LPOU_G4.5_1Hz_SW_hw8_long_UR_DL_3.25v0.5mW.mat\n",
      "merge_1207_LPOU_G4.5_1Hz_SW_hw8_long_UR_DL_3.25v1.625mW.mat\n",
      "merge_1207_LPOU_G4.5_1Hz_SW_hw8_long_UR_DL_6.5v0.1mW.mat\n",
      "merge_1207_LPOU_G4.5_1Hz_SW_hw8_long_UR_DL_6.5v0mW.mat\n",
      "merge_1207_LPOU_G4.5_1Hz_SW_hw8_long_UR_DL_6.5v0mW_0.mat\n",
      "merge_1207_LPOU_G4.5_1Hz_SW_hw8_long_UR_DL_6.5v1mW.mat\n",
      "merge_1207_LPOU_G4.5_1Hz_SW_hw8_long_UR_DL_6.5v3.25mW.mat\n",
      "merge_1207_LPOU_G4.5_2Hz_SW_hw8_long_UR_DL_6.5v0mW.mat\n",
      "merge_1207_LPOU_G4.5_4Hz_SW_hw8_long_UR_DL_6.5v0mW.mat\n",
      "merge_1207_OU_G4.5_SW_hw8_long_UR_DL_6.5v0mW.mat\n",
      "merge_1208_LPOU_G4.5_1Hz_GP_sigma13.2_long_UR_DL_6.5v0mW.mat\n",
      "merge_1208_LPOU_G4.5_1Hz_GP_sigma25.9_long_UR_DL_6.5v0mW.mat\n",
      "merge_1208_LPOU_G4.5_1Hz_GP_sigma6.8_long_UR_DL_6.5v0mW.mat\n",
      "merge_1208_LPOU_G4.5_1Hz_SW_hw16_long_UR_DL_6.5v0mW.mat\n",
      "merge_1208_LPOU_G4.5_1Hz_SW_hw32_long_UR_DL_6.5v0mW.mat\n",
      "merge_1208_LPOU_G4.5_1Hz_SW_hw8_long_UR_DL_65v10mW.mat\n",
      "merge_1208_LPOU_G4.5_1Hz_SW_hw8_long_UR_DL_65v1mW.mat\n",
      "merge_1209_LPOU_G4.5_1Hz_SW_hw8_long_UR_DL_13v0mW.mat\n",
      "merge_1209_LPOU_G4.5_1Hz_SW_hw8_long_UR_DL_26v0mW.mat\n",
      "merge_1209_LPOU_G4.5_1Hz_SW_hw8_long_UR_DL_65v0mW.mat\n"
     ]
    }
   ],
   "source": [
    "for filename in os.listdir(exp_folder+'merge\\\\'):\n",
    "    if filename.find('HMM')==-1 and filename.find('OU')==-1:\n",
    "        continue\n",
    "#     elif filename.find('grating')==-1 and filename.find('GP')==-1:\n",
    "#         continue\n",
    "    print(filename)\n",
    "    annots = loadmat(exp_folder+'merge\\\\'+filename, squeeze_me = True)\n",
    "#     if np.squeeze(annots['Video']['stimulation_type']) != 'Bar':\n",
    "#         continue\n",
    "#     elif np.squeeze(annots['Video']['series_type']) != 'HMM' and np.squeeze(annots['Video']['series_type']) != 'OUsmooth' and np.squeeze(annots['Video']['series_type']) != 'OU':\n",
    "#         continue\n",
    "#     if np.squeeze(annots['type']) != 'HMM' and np.squeeze(annots['type']) != 'OUsmooth' and np.squeeze(annots['type']) != 'OU':\n",
    "#         continue\n",
    "    \n",
    "    x = np.squeeze(annots['bin_pos'])\n",
    "    x = x.astype(float)\n",
    "    x = (x-np.mean(x))/np.std(x)\n",
    "    dt = 1./60.\n",
    "    # tAxis = np.arange(len(x))*dt+0.5*dt\n",
    "    tEdge = np.arange(len(x)+1)*dt\n",
    "\n",
    "    xstate, _= EqualState(x, 6)\n",
    "    Information_cell = [0]*60\n",
    "    for channelnumber in np.arange(1,61):\n",
    "        rstate, _ = np.histogram(annots['reconstruct_spikes'][channelnumber-1], tEdge)\n",
    "        if sum(rstate)/len(rstate)/dt <= 0.3 : continue\n",
    "\n",
    "        window = [-1,1] # second\n",
    "        timeshift, Information = MIfunc(rstate, xstate, dt, window, perSpike = True)\n",
    "        Information_cell[channelnumber-1] = Information.copy()\n",
    "    \n",
    "    np.savez(exp_folder+'MI\\\\MIperSpike_'+filename[:-4]+'.npz', Information_cell = Information_cell, timeshift = timeshift)"
   ]
  },
  {
   "cell_type": "code",
   "execution_count": null,
   "metadata": {},
   "outputs": [],
   "source": []
  }
 ],
 "metadata": {
  "interpreter": {
   "hash": "d0b1fa5f8190b2a41a5ff5a3ea72cebc53c78344021de4da08a7d779ac26dba6"
  },
  "kernelspec": {
   "display_name": "Python 3.7.11 64-bit ('base': conda)",
   "name": "python3"
  },
  "language_info": {
   "codemirror_mode": {
    "name": "ipython",
    "version": 3
   },
   "file_extension": ".py",
   "mimetype": "text/x-python",
   "name": "python",
   "nbconvert_exporter": "python",
   "pygments_lexer": "ipython3",
   "version": "3.7.11"
  },
  "toc": {
   "base_numbering": 1,
   "nav_menu": {
    "height": "187px",
    "width": "383px"
   },
   "number_sections": true,
   "sideBar": true,
   "skip_h1_title": false,
   "title_cell": "Table of Contents",
   "title_sidebar": "Contents",
   "toc_cell": false,
   "toc_position": {
    "height": "789px",
    "left": "557px",
    "top": "241px",
    "width": "165px"
   },
   "toc_section_display": true,
   "toc_window_display": true
  },
  "varInspector": {
   "cols": {
    "lenName": 16,
    "lenType": 16,
    "lenVar": 40
   },
   "kernels_config": {
    "python": {
     "delete_cmd_postfix": "",
     "delete_cmd_prefix": "del ",
     "library": "var_list.py",
     "varRefreshCmd": "print(var_dic_list())"
    },
    "r": {
     "delete_cmd_postfix": ") ",
     "delete_cmd_prefix": "rm(",
     "library": "var_list.r",
     "varRefreshCmd": "cat(var_dic_list()) "
    }
   },
   "position": {
    "height": "392px",
    "left": "1514px",
    "right": "20px",
    "top": "115px",
    "width": "350px"
   },
   "types_to_exclude": [
    "module",
    "function",
    "builtin_function_or_method",
    "instance",
    "_Feature"
   ],
   "window_display": true
  }
 },
 "nbformat": 4,
 "nbformat_minor": 4
}
